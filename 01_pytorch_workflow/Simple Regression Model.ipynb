{
 "cells": [
  {
   "cell_type": "code",
   "execution_count": 1,
   "id": "initial_id",
   "metadata": {
    "collapsed": true,
    "ExecuteTime": {
     "end_time": "2023-12-18T17:30:48.144737646Z",
     "start_time": "2023-12-18T17:30:47.376855676Z"
    }
   },
   "outputs": [],
   "source": [
    "import torch\n",
    "from torch import nn \n",
    "import matplotlib.pyplot as plt"
   ]
  },
  {
   "cell_type": "code",
   "execution_count": 2,
   "outputs": [
    {
     "data": {
      "text/plain": "'2.1.2+rocm5.6'"
     },
     "execution_count": 2,
     "metadata": {},
     "output_type": "execute_result"
    }
   ],
   "source": [
    "torch.__version__"
   ],
   "metadata": {
    "collapsed": false,
    "ExecuteTime": {
     "end_time": "2023-12-18T17:30:48.188654235Z",
     "start_time": "2023-12-18T17:30:48.187979466Z"
    }
   },
   "id": "1b8f7c684a7c5d38"
  },
  {
   "cell_type": "markdown",
   "source": [
    "# 1. Data (preparing and loading)"
   ],
   "metadata": {
    "collapsed": false
   },
   "id": "1f843add7f80d4b0"
  },
  {
   "cell_type": "code",
   "execution_count": 3,
   "outputs": [
    {
     "data": {
      "text/plain": "(tensor([[0.0000],\n         [0.0200],\n         [0.0400],\n         [0.0600],\n         [0.0800],\n         [0.1000],\n         [0.1200],\n         [0.1400],\n         [0.1600],\n         [0.1800]]),\n tensor([[0.3000],\n         [0.3140],\n         [0.3280],\n         [0.3420],\n         [0.3560],\n         [0.3700],\n         [0.3840],\n         [0.3980],\n         [0.4120],\n         [0.4260]]))"
     },
     "execution_count": 3,
     "metadata": {},
     "output_type": "execute_result"
    }
   ],
   "source": [
    "weight = 0.7\n",
    "bias = 0.3\n",
    "\n",
    "X = torch.arange(0, 1, 0.02).unsqueeze(dim=1) # reshape(50, 1)\n",
    "y = weight * X + bias\n",
    "\n",
    "X[:10], y[:10]"
   ],
   "metadata": {
    "collapsed": false,
    "ExecuteTime": {
     "end_time": "2023-12-18T17:30:48.189579403Z",
     "start_time": "2023-12-18T17:30:48.188143076Z"
    }
   },
   "id": "95ad5e625d8396e6"
  },
  {
   "cell_type": "markdown",
   "source": [],
   "metadata": {
    "collapsed": false
   },
   "id": "cd23b2eacd954b70"
  },
  {
   "cell_type": "markdown",
   "source": [
    "### X is the input and y is the output, now we can build a model that will predict the formula we just wrote (supposing that we don't know that, and the only information we have are X and y"
   ],
   "metadata": {
    "collapsed": false
   },
   "id": "3ef33fc13e04cbee"
  },
  {
   "cell_type": "code",
   "execution_count": 4,
   "outputs": [
    {
     "data": {
      "text/plain": "(40, 40, 10, 10)"
     },
     "execution_count": 4,
     "metadata": {},
     "output_type": "execute_result"
    }
   ],
   "source": [
    "train_split = int(0.8 * len(X))\n",
    "X_train, y_train = X[:train_split], y[:train_split]\n",
    "X_test, y_test = X[train_split:], y[train_split:]\n",
    "\n",
    "len(X_train), len(y_train), len(X_test), len(y_test)"
   ],
   "metadata": {
    "collapsed": false,
    "ExecuteTime": {
     "end_time": "2023-12-18T17:30:48.190343472Z",
     "start_time": "2023-12-18T17:30:48.188243526Z"
    }
   },
   "id": "200ceeb7dc28b94e"
  },
  {
   "cell_type": "code",
   "execution_count": 5,
   "outputs": [],
   "source": [
    "def plot_predictions(train_data=X_train,\n",
    "                     train_labels=y_train,\n",
    "                     test_data=X_test,\n",
    "                     test_labels=y_test,\n",
    "                     predictions=None):\n",
    "    plt.figure(figsize=(10, 7))\n",
    "    \n",
    "    plt.scatter(train_data, train_labels, c='b', s=40, label='Training data')\n",
    "    \n",
    "    plt.scatter(test_data, test_labels, c='g', s=40, label='Testing data')\n",
    "    \n",
    "    if predictions is not None:\n",
    "        plt.scatter(test_data, predictions, c='r', s=40, label='Predictions')\n",
    "    plt.legend(prop={\"size\": 14})"
   ],
   "metadata": {
    "collapsed": false,
    "ExecuteTime": {
     "end_time": "2023-12-18T17:30:48.190666691Z",
     "start_time": "2023-12-18T17:30:48.188323386Z"
    }
   },
   "id": "e798cf141af77359"
  },
  {
   "cell_type": "code",
   "execution_count": 6,
   "outputs": [
    {
     "data": {
      "text/plain": "<Figure size 1000x700 with 1 Axes>",
      "image/png": "[encoded data removed]"
     },
     "metadata": {},
     "output_type": "display_data"
    }
   ],
   "source": [
    "plot_predictions()"
   ],
   "metadata": {
    "collapsed": false,
    "ExecuteTime": {
     "end_time": "2023-12-18T17:30:48.277896063Z",
     "start_time": "2023-12-18T17:30:48.188745995Z"
    }
   },
   "id": "af495204b26038ba"
  },
  {
   "cell_type": "markdown",
   "source": [
    "# 2. Build model"
   ],
   "metadata": {
    "collapsed": false
   },
   "id": "f29c642db88562ee"
  },
  {
   "cell_type": "code",
   "execution_count": 7,
   "outputs": [
    {
     "data": {
      "text/plain": "tensor([-1.5940])"
     },
     "execution_count": 7,
     "metadata": {},
     "output_type": "execute_result"
    }
   ],
   "source": [
    "torch.randn(1)"
   ],
   "metadata": {
    "collapsed": false,
    "ExecuteTime": {
     "end_time": "2023-12-18T17:30:48.289118032Z",
     "start_time": "2023-12-18T17:30:48.277985542Z"
    }
   },
   "id": "81ee46d37dc17701"
  },
  {
   "cell_type": "code",
   "execution_count": 8,
   "outputs": [],
   "source": [
    "# Create linear regression model class\n",
    "\n",
    "class LinearRegressionModel(nn.Module):\n",
    "    def __init__(self):\n",
    "        super().__init__()\n",
    "        self.weights = nn.Parameter(torch.randn(1,\n",
    "                                                requires_grad=True,\n",
    "                                                dtype=torch.float32))\n",
    "        self.bias = nn.Parameter(torch.randn(1,\n",
    "                                             requires_grad=True,\n",
    "                                             dtype=torch.float32))\n",
    "        \n",
    "    def forward(self, x: torch.Tensor) -> torch.Tensor:\n",
    "        return self.weights * x + self.bias\n",
    "    "
   ],
   "metadata": {
    "collapsed": false,
    "ExecuteTime": {
     "end_time": "2023-12-18T17:30:48.347107436Z",
     "start_time": "2023-12-18T17:30:48.327944061Z"
    }
   },
   "id": "a4ca63fd2109e18e"
  },
  {
   "cell_type": "code",
   "execution_count": 9,
   "outputs": [],
   "source": [
    "model = LinearRegressionModel()\n"
   ],
   "metadata": {
    "collapsed": false,
    "ExecuteTime": {
     "end_time": "2023-12-18T17:30:48.347490056Z",
     "start_time": "2023-12-18T17:30:48.328035761Z"
    }
   },
   "id": "56ef66bb899322a"
  },
  {
   "cell_type": "code",
   "execution_count": 10,
   "outputs": [
    {
     "data": {
      "text/plain": "OrderedDict([('weights', tensor([0.7403])), ('bias', tensor([-0.0413]))])"
     },
     "execution_count": 10,
     "metadata": {},
     "output_type": "execute_result"
    }
   ],
   "source": [
    "model.state_dict()"
   ],
   "metadata": {
    "collapsed": false,
    "ExecuteTime": {
     "end_time": "2023-12-18T17:30:48.347898385Z",
     "start_time": "2023-12-18T17:30:48.328078701Z"
    }
   },
   "id": "5a1685bef42df2c8"
  },
  {
   "cell_type": "code",
   "execution_count": 11,
   "outputs": [
    {
     "data": {
      "text/plain": "tensor([[0.3000],\n        [0.3140],\n        [0.3280],\n        [0.3420],\n        [0.3560],\n        [0.3700],\n        [0.3840],\n        [0.3980],\n        [0.4120],\n        [0.4260],\n        [0.4400],\n        [0.4540],\n        [0.4680],\n        [0.4820],\n        [0.4960],\n        [0.5100],\n        [0.5240],\n        [0.5380],\n        [0.5520],\n        [0.5660],\n        [0.5800],\n        [0.5940],\n        [0.6080],\n        [0.6220],\n        [0.6360],\n        [0.6500],\n        [0.6640],\n        [0.6780],\n        [0.6920],\n        [0.7060],\n        [0.7200],\n        [0.7340],\n        [0.7480],\n        [0.7620],\n        [0.7760],\n        [0.7900],\n        [0.8040],\n        [0.8180],\n        [0.8320],\n        [0.8460],\n        [0.8600],\n        [0.8740],\n        [0.8880],\n        [0.9020],\n        [0.9160],\n        [0.9300],\n        [0.9440],\n        [0.9580],\n        [0.9720],\n        [0.9860]])"
     },
     "execution_count": 11,
     "metadata": {},
     "output_type": "execute_result"
    }
   ],
   "source": [
    "y"
   ],
   "metadata": {
    "collapsed": false,
    "ExecuteTime": {
     "end_time": "2023-12-18T17:30:48.378984598Z",
     "start_time": "2023-12-18T17:30:48.328137201Z"
    }
   },
   "id": "a13eede0eede2d82"
  },
  {
   "cell_type": "code",
   "execution_count": 12,
   "outputs": [
    {
     "data": {
      "text/plain": "tensor([[0.5510],\n        [0.5658],\n        [0.5806],\n        [0.5954],\n        [0.6102],\n        [0.6250],\n        [0.6398],\n        [0.6546],\n        [0.6694],\n        [0.6842]])"
     },
     "execution_count": 12,
     "metadata": {},
     "output_type": "execute_result"
    }
   ],
   "source": [
    "with torch.inference_mode():\n",
    "    # this creates a context on which different things are not tracked.\n",
    "    y_preds_first = model(X_test)\n",
    "\n",
    "y_preds_first"
   ],
   "metadata": {
    "collapsed": false,
    "ExecuteTime": {
     "end_time": "2023-12-18T17:30:48.379417747Z",
     "start_time": "2023-12-18T17:30:48.372031470Z"
    }
   },
   "id": "50d2d4bbd6fb1791"
  },
  {
   "cell_type": "code",
   "execution_count": 13,
   "outputs": [
    {
     "data": {
      "text/plain": "<Figure size 1000x700 with 1 Axes>",
      "image/png": "[encoded data removed]"
     },
     "metadata": {},
     "output_type": "display_data"
    }
   ],
   "source": [
    "plot_predictions(predictions=y_preds_first)"
   ],
   "metadata": {
    "collapsed": false,
    "ExecuteTime": {
     "end_time": "2023-12-18T17:30:48.452210074Z",
     "start_time": "2023-12-18T17:30:48.372178150Z"
    }
   },
   "id": "1389b22e66eb1027"
  },
  {
   "cell_type": "markdown",
   "source": [
    "## Loss functions"
   ],
   "metadata": {
    "collapsed": false
   },
   "id": "41b56bbd5fb3bca6"
  },
  {
   "cell_type": "code",
   "execution_count": 14,
   "outputs": [
    {
     "data": {
      "text/plain": "[Parameter containing:\n tensor([0.7403], requires_grad=True),\n Parameter containing:\n tensor([-0.0413], requires_grad=True)]"
     },
     "execution_count": 14,
     "metadata": {},
     "output_type": "execute_result"
    }
   ],
   "source": [
    "list(model.parameters())"
   ],
   "metadata": {
    "collapsed": false,
    "ExecuteTime": {
     "end_time": "2023-12-18T17:30:48.518126154Z",
     "start_time": "2023-12-18T17:30:48.452483934Z"
    }
   },
   "id": "bd17e07b4ef85ded"
  },
  {
   "cell_type": "code",
   "execution_count": 15,
   "outputs": [
    {
     "data": {
      "text/plain": "OrderedDict([('weights', tensor([0.7403])), ('bias', tensor([-0.0413]))])"
     },
     "execution_count": 15,
     "metadata": {},
     "output_type": "execute_result"
    }
   ],
   "source": [
    "model.state_dict()"
   ],
   "metadata": {
    "collapsed": false,
    "ExecuteTime": {
     "end_time": "2023-12-18T17:30:48.518606763Z",
     "start_time": "2023-12-18T17:30:48.495990604Z"
    }
   },
   "id": "be61b8ea742004cb"
  },
  {
   "cell_type": "code",
   "execution_count": 16,
   "outputs": [
    {
     "data": {
      "text/plain": "tensor(0.9327)"
     },
     "execution_count": 16,
     "metadata": {},
     "output_type": "execute_result"
    }
   ],
   "source": [
    "torch.square(y_test - y_preds_first).sum()"
   ],
   "metadata": {
    "collapsed": false,
    "ExecuteTime": {
     "end_time": "2023-12-18T17:30:48.519011663Z",
     "start_time": "2023-12-18T17:30:48.496082224Z"
    }
   },
   "id": "ab1516557a8e6daa"
  },
  {
   "cell_type": "code",
   "execution_count": 17,
   "outputs": [
    {
     "data": {
      "text/plain": "tensor(0.3054)"
     },
     "execution_count": 17,
     "metadata": {},
     "output_type": "execute_result"
    }
   ],
   "source": [
    "torch.mean(torch.abs(y_test - y_preds_first))"
   ],
   "metadata": {
    "collapsed": false,
    "ExecuteTime": {
     "end_time": "2023-12-18T17:30:48.519392082Z",
     "start_time": "2023-12-18T17:30:48.496125944Z"
    }
   },
   "id": "da8a0b04bd3c901c"
  },
  {
   "cell_type": "markdown",
   "source": [
    "### El optimizador y la función de pérdida los definimos por adelantado"
   ],
   "metadata": {
    "collapsed": false
   },
   "id": "f5289ecbc8e67063"
  },
  {
   "cell_type": "code",
   "execution_count": 18,
   "outputs": [],
   "source": [
    "loss_fn = nn.L1Loss()"
   ],
   "metadata": {
    "collapsed": false,
    "ExecuteTime": {
     "end_time": "2023-12-18T17:30:48.556963193Z",
     "start_time": "2023-12-18T17:30:48.496167874Z"
    }
   },
   "id": "c992224585eb14c7"
  },
  {
   "cell_type": "code",
   "execution_count": 19,
   "outputs": [
    {
     "data": {
      "text/plain": "tensor(0.3054)"
     },
     "execution_count": 19,
     "metadata": {},
     "output_type": "execute_result"
    }
   ],
   "source": [
    "loss_fn(y_test, y_preds_first)"
   ],
   "metadata": {
    "collapsed": false,
    "ExecuteTime": {
     "end_time": "2023-12-18T17:30:48.557752562Z",
     "start_time": "2023-12-18T17:30:48.539943045Z"
    }
   },
   "id": "8982ff34db1c468d"
  },
  {
   "cell_type": "code",
   "execution_count": 20,
   "outputs": [],
   "source": [
    "optimizer = torch.optim.SGD(params=model.parameters(),\n",
    "                            lr=0.01)"
   ],
   "metadata": {
    "collapsed": false,
    "ExecuteTime": {
     "end_time": "2023-12-18T17:30:48.692856956Z",
     "start_time": "2023-12-18T17:30:48.540021455Z"
    }
   },
   "id": "a8338e39a6b0323"
  },
  {
   "cell_type": "markdown",
   "source": [
    "## Training loop"
   ],
   "metadata": {
    "collapsed": false
   },
   "id": "8fa454c9a95d2177"
  },
  {
   "cell_type": "code",
   "execution_count": 21,
   "outputs": [
    {
     "data": {
      "text/plain": "(0.7, 0.3)"
     },
     "execution_count": 21,
     "metadata": {},
     "output_type": "execute_result"
    }
   ],
   "source": [
    "weight, bias"
   ],
   "metadata": {
    "collapsed": false,
    "ExecuteTime": {
     "end_time": "2023-12-18T17:30:48.694889152Z",
     "start_time": "2023-12-18T17:30:48.693349625Z"
    }
   },
   "id": "bd128fc8ee65b952"
  },
  {
   "cell_type": "code",
   "execution_count": 22,
   "outputs": [
    {
     "name": "stdout",
     "output_type": "stream",
     "text": [
      "Epoch: 0, Loss: 0.3255\n",
      "OrderedDict([('weights', tensor([0.7442])), ('bias', tensor([-0.0313]))])\n",
      "Epoch: 10, Loss: 0.2103\n",
      "OrderedDict([('weights', tensor([0.7832])), ('bias', tensor([0.0687]))])\n",
      "Epoch: 20, Loss: 0.0951\n",
      "OrderedDict([('weights', tensor([0.8222])), ('bias', tensor([0.1687]))])\n",
      "Epoch: 30, Loss: 0.0297\n",
      "OrderedDict([('weights', tensor([0.8377])), ('bias', tensor([0.2337]))])\n",
      "Epoch: 40, Loss: 0.0252\n",
      "OrderedDict([('weights', tensor([0.8236])), ('bias', tensor([0.2477]))])\n",
      "Epoch: 50, Loss: 0.0218\n",
      "OrderedDict([('weights', tensor([0.8067])), ('bias', tensor([0.2552]))])\n",
      "Epoch: 60, Loss: 0.0184\n",
      "OrderedDict([('weights', tensor([0.7895])), ('bias', tensor([0.2622]))])\n",
      "Epoch: 70, Loss: 0.0149\n",
      "OrderedDict([('weights', tensor([0.7726])), ('bias', tensor([0.2697]))])\n",
      "Epoch: 80, Loss: 0.0115\n",
      "OrderedDict([('weights', tensor([0.7554])), ('bias', tensor([0.2767]))])\n",
      "Epoch: 90, Loss: 0.0080\n",
      "OrderedDict([('weights', tensor([0.7383])), ('bias', tensor([0.2837]))])\n",
      "Epoch: 100, Loss: 0.0046\n",
      "OrderedDict([('weights', tensor([0.7213])), ('bias', tensor([0.2912]))])\n",
      "Epoch: 110, Loss: 0.0072\n",
      "OrderedDict([('weights', tensor([0.7093])), ('bias', tensor([0.3007]))])\n",
      "Epoch: 120, Loss: 0.0072\n",
      "OrderedDict([('weights', tensor([0.7093])), ('bias', tensor([0.3007]))])\n",
      "Epoch: 130, Loss: 0.0072\n",
      "OrderedDict([('weights', tensor([0.7093])), ('bias', tensor([0.3007]))])\n",
      "Epoch: 140, Loss: 0.0072\n",
      "OrderedDict([('weights', tensor([0.7093])), ('bias', tensor([0.3007]))])\n",
      "Epoch: 150, Loss: 0.0072\n",
      "OrderedDict([('weights', tensor([0.7093])), ('bias', tensor([0.3007]))])\n",
      "Epoch: 160, Loss: 0.0072\n",
      "OrderedDict([('weights', tensor([0.7093])), ('bias', tensor([0.3007]))])\n",
      "Epoch: 170, Loss: 0.0072\n",
      "OrderedDict([('weights', tensor([0.7093])), ('bias', tensor([0.3007]))])\n",
      "Epoch: 180, Loss: 0.0072\n",
      "OrderedDict([('weights', tensor([0.7093])), ('bias', tensor([0.3007]))])\n",
      "Epoch: 190, Loss: 0.0072\n",
      "OrderedDict([('weights', tensor([0.7093])), ('bias', tensor([0.3007]))])\n",
      "Epoch: 200, Loss: 0.0072\n",
      "OrderedDict([('weights', tensor([0.7093])), ('bias', tensor([0.3007]))])\n",
      "Epoch: 210, Loss: 0.0072\n",
      "OrderedDict([('weights', tensor([0.7093])), ('bias', tensor([0.3007]))])\n",
      "Epoch: 220, Loss: 0.0072\n",
      "OrderedDict([('weights', tensor([0.7093])), ('bias', tensor([0.3007]))])\n",
      "Epoch: 230, Loss: 0.0072\n",
      "OrderedDict([('weights', tensor([0.7093])), ('bias', tensor([0.3007]))])\n",
      "Epoch: 240, Loss: 0.0072\n",
      "OrderedDict([('weights', tensor([0.7093])), ('bias', tensor([0.3007]))])\n",
      "Epoch: 250, Loss: 0.0072\n",
      "OrderedDict([('weights', tensor([0.7093])), ('bias', tensor([0.3007]))])\n",
      "Epoch: 260, Loss: 0.0072\n",
      "OrderedDict([('weights', tensor([0.7093])), ('bias', tensor([0.3007]))])\n",
      "Epoch: 270, Loss: 0.0072\n",
      "OrderedDict([('weights', tensor([0.7093])), ('bias', tensor([0.3007]))])\n",
      "Epoch: 280, Loss: 0.0072\n",
      "OrderedDict([('weights', tensor([0.7093])), ('bias', tensor([0.3007]))])\n",
      "Epoch: 290, Loss: 0.0072\n",
      "OrderedDict([('weights', tensor([0.7093])), ('bias', tensor([0.3007]))])\n",
      "Epoch: 300, Loss: 0.0072\n",
      "OrderedDict([('weights', tensor([0.7093])), ('bias', tensor([0.3007]))])\n",
      "Epoch: 310, Loss: 0.0072\n",
      "OrderedDict([('weights', tensor([0.7093])), ('bias', tensor([0.3007]))])\n",
      "Epoch: 320, Loss: 0.0072\n",
      "OrderedDict([('weights', tensor([0.7093])), ('bias', tensor([0.3007]))])\n",
      "Epoch: 330, Loss: 0.0072\n",
      "OrderedDict([('weights', tensor([0.7093])), ('bias', tensor([0.3007]))])\n",
      "Epoch: 340, Loss: 0.0072\n",
      "OrderedDict([('weights', tensor([0.7093])), ('bias', tensor([0.3007]))])\n",
      "Epoch: 350, Loss: 0.0072\n",
      "OrderedDict([('weights', tensor([0.7093])), ('bias', tensor([0.3007]))])\n",
      "Epoch: 360, Loss: 0.0072\n",
      "OrderedDict([('weights', tensor([0.7093])), ('bias', tensor([0.3007]))])\n",
      "Epoch: 370, Loss: 0.0072\n",
      "OrderedDict([('weights', tensor([0.7093])), ('bias', tensor([0.3007]))])\n",
      "Epoch: 380, Loss: 0.0072\n",
      "OrderedDict([('weights', tensor([0.7093])), ('bias', tensor([0.3007]))])\n",
      "Epoch: 390, Loss: 0.0072\n",
      "OrderedDict([('weights', tensor([0.7093])), ('bias', tensor([0.3007]))])\n",
      "Epoch: 400, Loss: 0.0072\n",
      "OrderedDict([('weights', tensor([0.7093])), ('bias', tensor([0.3007]))])\n",
      "Epoch: 410, Loss: 0.0072\n",
      "OrderedDict([('weights', tensor([0.7093])), ('bias', tensor([0.3007]))])\n",
      "Epoch: 420, Loss: 0.0072\n",
      "OrderedDict([('weights', tensor([0.7093])), ('bias', tensor([0.3007]))])\n",
      "Epoch: 430, Loss: 0.0072\n",
      "OrderedDict([('weights', tensor([0.7093])), ('bias', tensor([0.3007]))])\n",
      "Epoch: 440, Loss: 0.0072\n",
      "OrderedDict([('weights', tensor([0.7093])), ('bias', tensor([0.3007]))])\n",
      "Epoch: 450, Loss: 0.0072\n",
      "OrderedDict([('weights', tensor([0.7093])), ('bias', tensor([0.3007]))])\n",
      "Epoch: 460, Loss: 0.0072\n",
      "OrderedDict([('weights', tensor([0.7093])), ('bias', tensor([0.3007]))])\n",
      "Epoch: 470, Loss: 0.0072\n",
      "OrderedDict([('weights', tensor([0.7093])), ('bias', tensor([0.3007]))])\n",
      "Epoch: 480, Loss: 0.0072\n",
      "OrderedDict([('weights', tensor([0.7093])), ('bias', tensor([0.3007]))])\n",
      "Epoch: 490, Loss: 0.0072\n",
      "OrderedDict([('weights', tensor([0.7093])), ('bias', tensor([0.3007]))])\n",
      "Epoch: 500, Loss: 0.0072\n",
      "OrderedDict([('weights', tensor([0.7093])), ('bias', tensor([0.3007]))])\n",
      "Epoch: 510, Loss: 0.0072\n",
      "OrderedDict([('weights', tensor([0.7093])), ('bias', tensor([0.3007]))])\n",
      "Epoch: 520, Loss: 0.0072\n",
      "OrderedDict([('weights', tensor([0.7093])), ('bias', tensor([0.3007]))])\n",
      "Epoch: 530, Loss: 0.0072\n",
      "OrderedDict([('weights', tensor([0.7093])), ('bias', tensor([0.3007]))])\n",
      "Epoch: 540, Loss: 0.0072\n",
      "OrderedDict([('weights', tensor([0.7093])), ('bias', tensor([0.3007]))])\n",
      "Epoch: 550, Loss: 0.0072\n",
      "OrderedDict([('weights', tensor([0.7093])), ('bias', tensor([0.3007]))])\n",
      "Epoch: 560, Loss: 0.0072\n",
      "OrderedDict([('weights', tensor([0.7093])), ('bias', tensor([0.3007]))])\n",
      "Epoch: 570, Loss: 0.0072\n",
      "OrderedDict([('weights', tensor([0.7093])), ('bias', tensor([0.3007]))])\n",
      "Epoch: 580, Loss: 0.0072\n",
      "OrderedDict([('weights', tensor([0.7093])), ('bias', tensor([0.3007]))])\n",
      "Epoch: 590, Loss: 0.0072\n",
      "OrderedDict([('weights', tensor([0.7093])), ('bias', tensor([0.3007]))])\n",
      "Epoch: 600, Loss: 0.0072\n",
      "OrderedDict([('weights', tensor([0.7093])), ('bias', tensor([0.3007]))])\n",
      "Epoch: 610, Loss: 0.0072\n",
      "OrderedDict([('weights', tensor([0.7093])), ('bias', tensor([0.3007]))])\n",
      "Epoch: 620, Loss: 0.0072\n",
      "OrderedDict([('weights', tensor([0.7093])), ('bias', tensor([0.3007]))])\n",
      "Epoch: 630, Loss: 0.0072\n",
      "OrderedDict([('weights', tensor([0.7093])), ('bias', tensor([0.3007]))])\n",
      "Epoch: 640, Loss: 0.0072\n",
      "OrderedDict([('weights', tensor([0.7093])), ('bias', tensor([0.3007]))])\n",
      "Epoch: 650, Loss: 0.0072\n",
      "OrderedDict([('weights', tensor([0.7093])), ('bias', tensor([0.3007]))])\n",
      "Epoch: 660, Loss: 0.0072\n",
      "OrderedDict([('weights', tensor([0.7093])), ('bias', tensor([0.3007]))])\n",
      "Epoch: 670, Loss: 0.0072\n",
      "OrderedDict([('weights', tensor([0.7093])), ('bias', tensor([0.3007]))])\n",
      "Epoch: 680, Loss: 0.0072\n",
      "OrderedDict([('weights', tensor([0.7093])), ('bias', tensor([0.3007]))])\n",
      "Epoch: 690, Loss: 0.0072\n",
      "OrderedDict([('weights', tensor([0.7093])), ('bias', tensor([0.3007]))])\n",
      "Epoch: 700, Loss: 0.0072\n",
      "OrderedDict([('weights', tensor([0.7093])), ('bias', tensor([0.3007]))])\n",
      "Epoch: 710, Loss: 0.0072\n",
      "OrderedDict([('weights', tensor([0.7093])), ('bias', tensor([0.3007]))])\n",
      "Epoch: 720, Loss: 0.0072\n",
      "OrderedDict([('weights', tensor([0.7093])), ('bias', tensor([0.3007]))])\n",
      "Epoch: 730, Loss: 0.0072\n",
      "OrderedDict([('weights', tensor([0.7093])), ('bias', tensor([0.3007]))])\n",
      "Epoch: 740, Loss: 0.0072\n",
      "OrderedDict([('weights', tensor([0.7093])), ('bias', tensor([0.3007]))])\n",
      "Epoch: 750, Loss: 0.0072\n",
      "OrderedDict([('weights', tensor([0.7093])), ('bias', tensor([0.3007]))])\n",
      "Epoch: 760, Loss: 0.0072\n",
      "OrderedDict([('weights', tensor([0.7093])), ('bias', tensor([0.3007]))])\n",
      "Epoch: 770, Loss: 0.0072\n",
      "OrderedDict([('weights', tensor([0.7093])), ('bias', tensor([0.3007]))])\n",
      "Epoch: 780, Loss: 0.0072\n",
      "OrderedDict([('weights', tensor([0.7093])), ('bias', tensor([0.3007]))])\n",
      "Epoch: 790, Loss: 0.0072\n",
      "OrderedDict([('weights', tensor([0.7093])), ('bias', tensor([0.3007]))])\n",
      "Epoch: 800, Loss: 0.0072\n",
      "OrderedDict([('weights', tensor([0.7093])), ('bias', tensor([0.3007]))])\n",
      "Epoch: 810, Loss: 0.0072\n",
      "OrderedDict([('weights', tensor([0.7093])), ('bias', tensor([0.3007]))])\n",
      "Epoch: 820, Loss: 0.0072\n",
      "OrderedDict([('weights', tensor([0.7093])), ('bias', tensor([0.3007]))])\n",
      "Epoch: 830, Loss: 0.0072\n",
      "OrderedDict([('weights', tensor([0.7093])), ('bias', tensor([0.3007]))])\n",
      "Epoch: 840, Loss: 0.0072\n",
      "OrderedDict([('weights', tensor([0.7093])), ('bias', tensor([0.3007]))])\n",
      "Epoch: 850, Loss: 0.0072\n",
      "OrderedDict([('weights', tensor([0.7093])), ('bias', tensor([0.3007]))])\n",
      "Epoch: 860, Loss: 0.0072\n",
      "OrderedDict([('weights', tensor([0.7093])), ('bias', tensor([0.3007]))])\n",
      "Epoch: 870, Loss: 0.0072\n",
      "OrderedDict([('weights', tensor([0.7093])), ('bias', tensor([0.3007]))])\n",
      "Epoch: 880, Loss: 0.0072\n",
      "OrderedDict([('weights', tensor([0.7093])), ('bias', tensor([0.3007]))])\n",
      "Epoch: 890, Loss: 0.0072\n",
      "OrderedDict([('weights', tensor([0.7093])), ('bias', tensor([0.3007]))])\n",
      "Epoch: 900, Loss: 0.0072\n",
      "OrderedDict([('weights', tensor([0.7093])), ('bias', tensor([0.3007]))])\n",
      "Epoch: 910, Loss: 0.0072\n",
      "OrderedDict([('weights', tensor([0.7093])), ('bias', tensor([0.3007]))])\n",
      "Epoch: 920, Loss: 0.0072\n",
      "OrderedDict([('weights', tensor([0.7093])), ('bias', tensor([0.3007]))])\n",
      "Epoch: 930, Loss: 0.0072\n",
      "OrderedDict([('weights', tensor([0.7093])), ('bias', tensor([0.3007]))])\n",
      "Epoch: 940, Loss: 0.0072\n",
      "OrderedDict([('weights', tensor([0.7093])), ('bias', tensor([0.3007]))])\n",
      "Epoch: 950, Loss: 0.0072\n",
      "OrderedDict([('weights', tensor([0.7093])), ('bias', tensor([0.3007]))])\n",
      "Epoch: 960, Loss: 0.0072\n",
      "OrderedDict([('weights', tensor([0.7093])), ('bias', tensor([0.3007]))])\n",
      "Epoch: 970, Loss: 0.0072\n",
      "OrderedDict([('weights', tensor([0.7093])), ('bias', tensor([0.3007]))])\n",
      "Epoch: 980, Loss: 0.0072\n",
      "OrderedDict([('weights', tensor([0.7093])), ('bias', tensor([0.3007]))])\n",
      "Epoch: 990, Loss: 0.0072\n",
      "OrderedDict([('weights', tensor([0.7093])), ('bias', tensor([0.3007]))])\n"
     ]
    }
   ],
   "source": [
    "epochs = 1000\n",
    "for epoch in range(epochs):\n",
    "    model.train()\n",
    "    y_pred = model(X_train)\n",
    "    loss = loss_fn(y_pred, y_train)\n",
    "    optimizer.zero_grad() # the gradient is accumulative, so we make it 0 before calculation\n",
    "    loss.backward() # perform backpropagation (compute the gradient of every parameter with requires_grad=True\n",
    "    optimizer.step()\n",
    "    \n",
    "    model.eval()\n",
    "    \n",
    "    if epoch % 10 == 0:\n",
    "        with torch.inference_mode():\n",
    "            test_pred = model(X_test)\n",
    "            test_loss = loss_fn(test_pred, y_test)\n",
    "            \n",
    "            print(f'Epoch: {epoch}, Loss: {loss:.4f}')\n",
    "            print(model.state_dict())\n",
    "        "
   ],
   "metadata": {
    "collapsed": false,
    "ExecuteTime": {
     "end_time": "2023-12-18T17:30:48.952025862Z",
     "start_time": "2023-12-18T17:30:48.696224439Z"
    }
   },
   "id": "3a66dc7f8446a827"
  },
  {
   "cell_type": "code",
   "execution_count": 23,
   "outputs": [
    {
     "data": {
      "text/plain": "OrderedDict([('weights', tensor([0.7054])), ('bias', tensor([0.2907]))])"
     },
     "execution_count": 23,
     "metadata": {},
     "output_type": "execute_result"
    }
   ],
   "source": [
    "model.state_dict()"
   ],
   "metadata": {
    "collapsed": false,
    "ExecuteTime": {
     "end_time": "2023-12-18T17:30:48.952811681Z",
     "start_time": "2023-12-18T17:30:48.951971242Z"
    }
   },
   "id": "582cdf1387c9fec2"
  },
  {
   "cell_type": "code",
   "execution_count": 24,
   "outputs": [
    {
     "data": {
      "text/plain": "<Figure size 1000x700 with 1 Axes>",
      "image/png": "[encoded data removed]"
     },
     "metadata": {},
     "output_type": "display_data"
    }
   ],
   "source": [
    "with torch.inference_mode():\n",
    "    y_preds_new = model(X_test)\n",
    "    plot_predictions(predictions=y_preds_new)"
   ],
   "metadata": {
    "collapsed": false,
    "ExecuteTime": {
     "end_time": "2023-12-18T17:30:49.025746078Z",
     "start_time": "2023-12-18T17:30:48.952077442Z"
    }
   },
   "id": "156254e23e15352"
  },
  {
   "cell_type": "code",
   "execution_count": 25,
   "outputs": [
    {
     "data": {
      "text/plain": "<Figure size 1000x700 with 1 Axes>",
      "image/png": "[encoded data removed]"
     },
     "metadata": {},
     "output_type": "display_data"
    }
   ],
   "source": [
    "plot_predictions(predictions=y_preds_first)"
   ],
   "metadata": {
    "collapsed": false,
    "ExecuteTime": {
     "end_time": "2023-12-18T17:30:49.102950777Z",
     "start_time": "2023-12-18T17:30:49.027052746Z"
    }
   },
   "id": "31b9b7f901b0e3ca"
  },
  {
   "cell_type": "markdown",
   "source": [
    "## Saving the model"
   ],
   "metadata": {
    "collapsed": false
   },
   "id": "1a6e4565cee1e1d3"
  },
  {
   "cell_type": "markdown",
   "source": [
    "### It is recommended to just save and load the state dict"
   ],
   "metadata": {
    "collapsed": false
   },
   "id": "e347c65e2ca84dda"
  },
  {
   "cell_type": "code",
   "execution_count": 27,
   "outputs": [],
   "source": [
    "torch.save(model.state_dict(), \"./models/model_dict.pth\")"
   ],
   "metadata": {
    "collapsed": false,
    "ExecuteTime": {
     "end_time": "2023-12-18T21:04:09.331980466Z",
     "start_time": "2023-12-18T21:04:09.288406859Z"
    }
   },
   "id": "2f57e0a8f414c261"
  },
  {
   "cell_type": "code",
   "execution_count": 29,
   "outputs": [
    {
     "data": {
      "text/plain": "OrderedDict([('weights', tensor([0.7054])), ('bias', tensor([0.2907]))])"
     },
     "execution_count": 29,
     "metadata": {},
     "output_type": "execute_result"
    }
   ],
   "source": [
    "loaded_model = LinearRegressionModel()\n",
    "loaded_model.load_state_dict(torch.load(\"./models/model_dict.pth\"))\n",
    "loaded_model.state_dict()"
   ],
   "metadata": {
    "collapsed": false,
    "ExecuteTime": {
     "end_time": "2023-12-18T21:07:14.600563482Z",
     "start_time": "2023-12-18T21:07:14.591040025Z"
    }
   },
   "id": "9e7f54887872f0f1"
  },
  {
   "cell_type": "markdown",
   "source": [
    "### We can also save and load the entire model"
   ],
   "metadata": {
    "collapsed": false
   },
   "id": "75068626cb533d14"
  },
  {
   "cell_type": "code",
   "execution_count": 31,
   "outputs": [],
   "source": [
    "torch.save(model, \"./models/full_model.pth\")"
   ],
   "metadata": {
    "collapsed": false,
    "ExecuteTime": {
     "end_time": "2023-12-18T21:09:19.875991645Z",
     "start_time": "2023-12-18T21:09:19.831008765Z"
    }
   },
   "id": "94cfbe8e3bb29ab"
  },
  {
   "cell_type": "code",
   "execution_count": 32,
   "outputs": [],
   "source": [
    "loaded_full_model = torch.load(\"./models/full_model.pth\")"
   ],
   "metadata": {
    "collapsed": false,
    "ExecuteTime": {
     "end_time": "2023-12-18T21:10:02.491997156Z",
     "start_time": "2023-12-18T21:10:02.445711195Z"
    }
   },
   "id": "c2ca3cb93dcecb2"
  },
  {
   "cell_type": "code",
   "execution_count": 33,
   "outputs": [
    {
     "data": {
      "text/plain": "OrderedDict([('weights', tensor([0.7054])), ('bias', tensor([0.2907]))])"
     },
     "execution_count": 33,
     "metadata": {},
     "output_type": "execute_result"
    }
   ],
   "source": [
    "loaded_full_model.state_dict()"
   ],
   "metadata": {
    "collapsed": false,
    "ExecuteTime": {
     "end_time": "2023-12-18T21:10:12.706344551Z",
     "start_time": "2023-12-18T21:10:12.693780146Z"
    }
   },
   "id": "3bc9b2dd9d9ecf7b"
  },
  {
   "cell_type": "code",
   "execution_count": 37,
   "outputs": [],
   "source": [
    "loaded_full_model.eval()\n",
    "with torch.inference_mode():\n",
    "    loaded_pred = loaded_model(X_test)"
   ],
   "metadata": {
    "collapsed": false,
    "ExecuteTime": {
     "end_time": "2023-12-18T21:15:45.088021702Z",
     "start_time": "2023-12-18T21:15:45.046791729Z"
    }
   },
   "id": "1ac699c71e78cc53"
  },
  {
   "cell_type": "code",
   "execution_count": 38,
   "outputs": [
    {
     "data": {
      "text/plain": "<Figure size 1000x700 with 1 Axes>",
      "image/png": "[encoded data removed]"
     },
     "metadata": {},
     "output_type": "display_data"
    }
   ],
   "source": [
    "plot_predictions(predictions=loaded_pred)"
   ],
   "metadata": {
    "collapsed": false,
    "ExecuteTime": {
     "end_time": "2023-12-18T21:15:47.226674716Z",
     "start_time": "2023-12-18T21:15:47.143534258Z"
    }
   },
   "id": "62e0e9f878a37a36"
  },
  {
   "cell_type": "code",
   "execution_count": null,
   "outputs": [],
   "source": [],
   "metadata": {
    "collapsed": false
   },
   "id": "cca4b9bbf2b15a7a"
  }
 ],
 "metadata": {
  "kernelspec": {
   "display_name": "Python 3",
   "language": "python",
   "name": "python3"
  },
  "language_info": {
   "codemirror_mode": {
    "name": "ipython",
    "version": 2
   },
   "file_extension": ".py",
   "mimetype": "text/x-python",
   "name": "python",
   "nbconvert_exporter": "python",
   "pygments_lexer": "ipython2",
   "version": "2.7.6"
  }
 },
 "nbformat": 4,
 "nbformat_minor": 5
}
