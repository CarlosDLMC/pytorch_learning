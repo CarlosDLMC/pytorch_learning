{
 "cells": [
  {
   "cell_type": "markdown",
   "source": [
    "# Exercises for the tema tensors"
   ],
   "metadata": {
    "collapsed": false
   },
   "id": "a9026440cd803fa4"
  },
  {
   "cell_type": "code",
   "execution_count": 2,
   "outputs": [],
   "source": [
    "import torch"
   ],
   "metadata": {
    "collapsed": false,
    "ExecuteTime": {
     "end_time": "2023-12-17T15:56:54.358313432Z",
     "start_time": "2023-12-17T15:56:53.721230951Z"
    }
   },
   "id": "6eb610db59a329a5"
  },
  {
   "cell_type": "markdown",
   "source": [
    "### Documentation reading - A big part of deep learning (and learning to code in general) is getting familiar with the documentation of a certain framework you're using. We'll be using the PyTorch documentation a lot throughout the rest of this course. So I'd recommend spending 10-minutes reading the following (it's okay if you don't get some things for now, the focus is not yet full understanding, it's awareness). See the documentation on torch.Tensor and for torch.cuda."
   ],
   "metadata": {
    "collapsed": false
   },
   "id": "23c2e4ca8429671"
  },
  {
   "cell_type": "markdown",
   "source": [
    "### 2. Create a random tensor with shape (7, 7)."
   ],
   "metadata": {
    "collapsed": false
   },
   "id": "9774f28bd79a6350"
  },
  {
   "cell_type": "code",
   "execution_count": 3,
   "outputs": [
    {
     "data": {
      "text/plain": "tensor([[0.0841, 0.0869, 0.4873, 0.5487, 0.8986, 0.4269, 0.9035],\n        [0.0148, 0.2681, 0.4871, 0.0271, 0.3719, 0.1340, 0.8844],\n        [0.1471, 0.2449, 0.8319, 0.7297, 0.2055, 0.0132, 0.5116],\n        [0.5217, 0.7490, 0.6360, 0.7747, 0.4555, 0.2931, 0.9805],\n        [0.6998, 0.3254, 0.1186, 0.6013, 0.0839, 0.6783, 0.6948],\n        [0.6389, 0.3669, 0.6070, 0.6463, 0.1100, 0.4548, 0.6485],\n        [0.2274, 0.2578, 0.8281, 0.2380, 0.2672, 0.9554, 0.9604]])"
     },
     "execution_count": 3,
     "metadata": {},
     "output_type": "execute_result"
    }
   ],
   "source": [
    "tensor = torch.rand(7, 7)\n",
    "tensor"
   ],
   "metadata": {
    "collapsed": false,
    "ExecuteTime": {
     "end_time": "2023-12-17T15:57:18.244270100Z",
     "start_time": "2023-12-17T15:57:18.200888798Z"
    }
   },
   "id": "e54044af3ab3264f"
  },
  {
   "cell_type": "markdown",
   "source": [
    "### 3. Perform a matrix multiplication on the tensor from 2 with another random tensor with shape (1, 7) (hint: you may have to transpose the second tensor)."
   ],
   "metadata": {
    "collapsed": false
   },
   "id": "7ed0ac2c30c822fe"
  },
  {
   "cell_type": "code",
   "execution_count": 10,
   "outputs": [
    {
     "data": {
      "text/plain": "tensor([[2.4045],\n        [1.6486],\n        [1.6663],\n        [3.0788],\n        [2.3537],\n        [2.3726],\n        [2.7130]])"
     },
     "execution_count": 10,
     "metadata": {},
     "output_type": "execute_result"
    }
   ],
   "source": [
    "tensor @ torch.rand(1, 7).T"
   ],
   "metadata": {
    "collapsed": false,
    "ExecuteTime": {
     "end_time": "2023-12-17T15:59:13.181759609Z",
     "start_time": "2023-12-17T15:59:13.178736304Z"
    }
   },
   "id": "f981bbeece393169"
  },
  {
   "cell_type": "markdown",
   "source": [
    "### 4. Set the random seed to 0 and do exercises 2 & 3 over again."
   ],
   "metadata": {
    "collapsed": false
   },
   "id": "5aa60070574d6609"
  },
  {
   "cell_type": "code",
   "execution_count": 11,
   "outputs": [
    {
     "data": {
      "text/plain": "tensor([[1.8542],\n        [1.9611],\n        [2.2884],\n        [3.0481],\n        [1.7067],\n        [2.5290],\n        [1.7989]])"
     },
     "execution_count": 11,
     "metadata": {},
     "output_type": "execute_result"
    }
   ],
   "source": [
    "torch.manual_seed(0)\n",
    "tensor_1 = torch.rand(7, 7)\n",
    "tensor_2 = torch.rand(1, 7)\n",
    "\n",
    "result = tensor_1 @ tensor_2.T\n",
    "result"
   ],
   "metadata": {
    "collapsed": false,
    "ExecuteTime": {
     "end_time": "2023-12-17T15:59:16.114419933Z",
     "start_time": "2023-12-17T15:59:16.109137044Z"
    }
   },
   "id": "3a1b5827ce246b0b"
  },
  {
   "cell_type": "markdown",
   "source": [
    "### 5. Speaking of random seeds, we saw how to set it with torch.manual_seed() but is there a GPU equivalent? (hint: you'll need to look into the documentation for torch.cuda for this one). If there is, set the GPU random seed to 1234."
   ],
   "metadata": {
    "collapsed": false
   },
   "id": "f9c220ec66f60015"
  },
  {
   "cell_type": "code",
   "execution_count": 12,
   "outputs": [],
   "source": [
    "torch.cuda.manual_seed(1234)"
   ],
   "metadata": {
    "collapsed": false,
    "ExecuteTime": {
     "end_time": "2023-12-17T16:01:44.568028675Z",
     "start_time": "2023-12-17T16:01:44.522809631Z"
    }
   },
   "id": "20c6002f4fd7b3f0"
  },
  {
   "cell_type": "markdown",
   "source": [
    "### 6. Create two random tensors of shape (2, 3) and send them both to the GPU (you'll need access to a GPU for this). Set torch.manual_seed(1234) when creating the tensors (this doesn't have to be the GPU random seed)."
   ],
   "metadata": {
    "collapsed": false
   },
   "id": "3646b200d2e93790"
  },
  {
   "cell_type": "code",
   "execution_count": 17,
   "outputs": [],
   "source": [
    "torch.manual_seed(1234) \n",
    "gpu_tensor_1 = torch.rand(size=(2, 3), device='cuda')\n",
    "gpu_tensor_2 = torch.rand(size=(2, 3), device='cuda')"
   ],
   "metadata": {
    "collapsed": false,
    "ExecuteTime": {
     "end_time": "2023-12-17T16:04:24.132112333Z",
     "start_time": "2023-12-17T16:04:24.091415043Z"
    }
   },
   "id": "83d244e0898c69c2"
  },
  {
   "cell_type": "code",
   "execution_count": 18,
   "outputs": [
    {
     "data": {
      "text/plain": "(tensor([[0.1272, 0.8167, 0.5440],\n         [0.6601, 0.2721, 0.9737]], device='cuda:0'),\n torch.float32)"
     },
     "execution_count": 18,
     "metadata": {},
     "output_type": "execute_result"
    }
   ],
   "source": [
    "gpu_tensor_1, gpu_tensor_1.dtype"
   ],
   "metadata": {
    "collapsed": false,
    "ExecuteTime": {
     "end_time": "2023-12-17T16:04:26.025131401Z",
     "start_time": "2023-12-17T16:04:26.020461981Z"
    }
   },
   "id": "1877ca1812be833e"
  },
  {
   "cell_type": "markdown",
   "source": [
    "### 7. Perform a matrix multiplication on the tensors you created in 6 (again, you may have to adjust the shapes of one of the tensors)."
   ],
   "metadata": {
    "collapsed": false
   },
   "id": "6b07333677de1545"
  },
  {
   "cell_type": "code",
   "execution_count": 20,
   "outputs": [
    {
     "data": {
      "text/plain": "tensor([[0.2786, 0.7668],\n        [0.7343, 0.6102]], device='cuda:0')"
     },
     "execution_count": 20,
     "metadata": {},
     "output_type": "execute_result"
    }
   ],
   "source": [
    "matmul_result = gpu_tensor_1 @ gpu_tensor_2.T\n",
    "matmul_result"
   ],
   "metadata": {
    "collapsed": false,
    "ExecuteTime": {
     "end_time": "2023-12-17T16:05:22.838783251Z",
     "start_time": "2023-12-17T16:05:22.832441295Z"
    }
   },
   "id": "48d9be7a38148af3"
  },
  {
   "cell_type": "markdown",
   "source": [
    "### 8. Find the maximum and minimum values of the output of 7."
   ],
   "metadata": {
    "collapsed": false
   },
   "id": "54a51a7de3334340"
  },
  {
   "cell_type": "code",
   "execution_count": 21,
   "outputs": [
    {
     "data": {
      "text/plain": "(tensor(0.7668, device='cuda:0'), tensor(0.2786, device='cuda:0'))"
     },
     "execution_count": 21,
     "metadata": {},
     "output_type": "execute_result"
    }
   ],
   "source": [
    "matmul_result.max(), matmul_result.min()"
   ],
   "metadata": {
    "collapsed": false,
    "ExecuteTime": {
     "end_time": "2023-12-17T16:05:51.520203800Z",
     "start_time": "2023-12-17T16:05:51.478383476Z"
    }
   },
   "id": "2322f56a0284cfc0"
  },
  {
   "cell_type": "markdown",
   "source": [
    "### 9. Find the maximum and minimum index values of the output of 7."
   ],
   "metadata": {
    "collapsed": false
   },
   "id": "6bbded4381a43d5"
  },
  {
   "cell_type": "code",
   "execution_count": 22,
   "outputs": [
    {
     "data": {
      "text/plain": "(tensor(1, device='cuda:0'), tensor(0, device='cuda:0'))"
     },
     "execution_count": 22,
     "metadata": {},
     "output_type": "execute_result"
    }
   ],
   "source": [
    "matmul_result.argmax(), matmul_result.argmin()"
   ],
   "metadata": {
    "collapsed": false,
    "ExecuteTime": {
     "end_time": "2023-12-17T16:06:12.488113888Z",
     "start_time": "2023-12-17T16:06:12.442790804Z"
    }
   },
   "id": "6439c8507e7473a8"
  },
  {
   "cell_type": "markdown",
   "source": [
    "### 10. Make a random tensor with shape (1, 1, 1, 10) and then create a new tensor with all the 1 dimensions removed to be left with a tensor of shape (10). Set the seed to 7 when you create it and print out the first tensor and it's shape as well as the second tensor and it's shape."
   ],
   "metadata": {
    "collapsed": false
   },
   "id": "7cd7f8371445788f"
  },
  {
   "cell_type": "code",
   "execution_count": 24,
   "outputs": [
    {
     "data": {
      "text/plain": "(tensor([[[[0.5349, 0.1988, 0.6592, 0.6569, 0.2328, 0.4251, 0.2071, 0.6297,\n            0.3653, 0.8513]]]]),\n torch.Size([1, 1, 1, 10]))"
     },
     "execution_count": 24,
     "metadata": {},
     "output_type": "execute_result"
    }
   ],
   "source": [
    "torch.manual_seed(7)\n",
    "random_tensor = torch.rand(size=(1, 1, 1, 10))\n",
    "random_tensor, random_tensor.shape"
   ],
   "metadata": {
    "collapsed": false,
    "ExecuteTime": {
     "end_time": "2023-12-17T16:07:54.203043305Z",
     "start_time": "2023-12-17T16:07:54.196486760Z"
    }
   },
   "id": "b3c13a6463b410ee"
  },
  {
   "cell_type": "code",
   "execution_count": 26,
   "outputs": [
    {
     "data": {
      "text/plain": "(tensor([0.5349, 0.1988, 0.6592, 0.6569, 0.2328, 0.4251, 0.2071, 0.6297, 0.3653,\n         0.8513]),\n torch.Size([10]))"
     },
     "execution_count": 26,
     "metadata": {},
     "output_type": "execute_result"
    }
   ],
   "source": [
    "squeezed = random_tensor.squeeze()\n",
    "squeezed, squeezed.shape"
   ],
   "metadata": {
    "collapsed": false,
    "ExecuteTime": {
     "end_time": "2023-12-17T16:08:04.953837744Z",
     "start_time": "2023-12-17T16:08:04.946364552Z"
    }
   },
   "id": "3600da0f470b1074"
  },
  {
   "cell_type": "code",
   "execution_count": null,
   "outputs": [],
   "source": [],
   "metadata": {
    "collapsed": false
   },
   "id": "47aa992a4a2a54a0"
  }
 ],
 "metadata": {
  "kernelspec": {
   "display_name": "Python 3",
   "language": "python",
   "name": "python3"
  },
  "language_info": {
   "codemirror_mode": {
    "name": "ipython",
    "version": 2
   },
   "file_extension": ".py",
   "mimetype": "text/x-python",
   "name": "python",
   "nbconvert_exporter": "python",
   "pygments_lexer": "ipython2",
   "version": "2.7.6"
  }
 },
 "nbformat": 4,
 "nbformat_minor": 5
}
