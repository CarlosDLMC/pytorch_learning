{
 "cells": [
  {
   "cell_type": "code",
   "execution_count": 1,
   "id": "initial_id",
   "metadata": {
    "collapsed": true,
    "ExecuteTime": {
     "end_time": "2023-12-18T21:02:29.600392510Z",
     "start_time": "2023-12-18T21:02:28.783116307Z"
    }
   },
   "outputs": [],
   "source": [
    "import torch\n",
    "import torch.nn as nn\n",
    "import matplotlib.pyplot as plt"
   ]
  },
  {
   "cell_type": "code",
   "execution_count": 2,
   "outputs": [],
   "source": [
    "X = torch.arange(0, 10, 0.2)"
   ],
   "metadata": {
    "collapsed": false,
    "ExecuteTime": {
     "end_time": "2023-12-18T21:02:29.644557079Z",
     "start_time": "2023-12-18T21:02:29.643973354Z"
    }
   },
   "id": "a1e19c959950e6f9"
  },
  {
   "cell_type": "code",
   "execution_count": 3,
   "outputs": [],
   "source": [
    "# lineal y(x) = m * x + a\n",
    "# cuadrado y(x) = m * (x ^ 2) + n * x + a"
   ],
   "metadata": {
    "collapsed": false,
    "ExecuteTime": {
     "end_time": "2023-12-18T21:02:29.645028836Z",
     "start_time": "2023-12-18T21:02:29.644066233Z"
    }
   },
   "id": "2408001b00969f43"
  },
  {
   "cell_type": "code",
   "execution_count": 4,
   "outputs": [],
   "source": [
    "m, n, a = 0.9, 0.6, 0.5"
   ],
   "metadata": {
    "collapsed": false,
    "ExecuteTime": {
     "end_time": "2023-12-18T21:02:29.645456273Z",
     "start_time": "2023-12-18T21:02:29.644106593Z"
    }
   },
   "id": "4304bfcc94501990"
  },
  {
   "cell_type": "code",
   "execution_count": 5,
   "outputs": [],
   "source": [
    "def f(x):\n",
    "    return torch.pow(x, 2) * m + x * n + a"
   ],
   "metadata": {
    "collapsed": false,
    "ExecuteTime": {
     "end_time": "2023-12-18T21:02:29.645846870Z",
     "start_time": "2023-12-18T21:02:29.644140362Z"
    }
   },
   "id": "d5e0912f0b9bc05a"
  },
  {
   "cell_type": "code",
   "execution_count": 6,
   "outputs": [
    {
     "data": {
      "text/plain": "tensor([[0.0000],\n        [0.2000],\n        [0.4000],\n        [0.6000],\n        [0.8000],\n        [1.0000],\n        [1.2000],\n        [1.4000],\n        [1.6000],\n        [1.8000],\n        [2.0000],\n        [2.2000],\n        [2.4000],\n        [2.6000],\n        [2.8000],\n        [3.0000],\n        [3.2000],\n        [3.4000],\n        [3.6000],\n        [3.8000],\n        [4.0000],\n        [4.2000],\n        [4.4000],\n        [4.6000],\n        [4.8000],\n        [5.0000],\n        [5.2000],\n        [5.4000],\n        [5.6000],\n        [5.8000],\n        [6.0000],\n        [6.2000],\n        [6.4000],\n        [6.6000],\n        [6.8000],\n        [7.0000],\n        [7.2000],\n        [7.4000],\n        [7.6000],\n        [7.8000],\n        [8.0000],\n        [8.2000],\n        [8.4000],\n        [8.6000],\n        [8.8000],\n        [9.0000],\n        [9.2000],\n        [9.4000],\n        [9.6000],\n        [9.8000]])"
     },
     "execution_count": 6,
     "metadata": {},
     "output_type": "execute_result"
    }
   ],
   "source": [
    "X = X.unsqueeze(dim=1)\n",
    "X"
   ],
   "metadata": {
    "collapsed": false,
    "ExecuteTime": {
     "end_time": "2023-12-18T21:02:29.655596505Z",
     "start_time": "2023-12-18T21:02:29.644168012Z"
    }
   },
   "id": "d04f92c6e58803c2"
  },
  {
   "cell_type": "code",
   "execution_count": 7,
   "outputs": [
    {
     "data": {
      "text/plain": "tensor([[ 0.5000],\n        [ 0.6560],\n        [ 0.8840],\n        [ 1.1840],\n        [ 1.5560],\n        [ 2.0000],\n        [ 2.5160],\n        [ 3.1040],\n        [ 3.7640],\n        [ 4.4960],\n        [ 5.3000],\n        [ 6.1760],\n        [ 7.1240],\n        [ 8.1440],\n        [ 9.2360],\n        [10.4000],\n        [11.6360],\n        [12.9440],\n        [14.3240],\n        [15.7760],\n        [17.3000],\n        [18.8960],\n        [20.5640],\n        [22.3040],\n        [24.1160],\n        [26.0000],\n        [27.9560],\n        [29.9840],\n        [32.0840],\n        [34.2560],\n        [36.5000],\n        [38.8160],\n        [41.2040],\n        [43.6640],\n        [46.1960],\n        [48.8000],\n        [51.4760],\n        [54.2240],\n        [57.0440],\n        [59.9360],\n        [62.9000],\n        [65.9360],\n        [69.0440],\n        [72.2240],\n        [75.4760],\n        [78.8000],\n        [82.1960],\n        [85.6640],\n        [89.2040],\n        [92.8160]])"
     },
     "execution_count": 7,
     "metadata": {},
     "output_type": "execute_result"
    }
   ],
   "source": [
    "y = f(X)\n",
    "y"
   ],
   "metadata": {
    "collapsed": false,
    "ExecuteTime": {
     "end_time": "2023-12-18T21:02:29.684015847Z",
     "start_time": "2023-12-18T21:02:29.655708935Z"
    }
   },
   "id": "7f6f0a9009ea889a"
  },
  {
   "cell_type": "code",
   "execution_count": 8,
   "outputs": [],
   "source": [
    "split = int(0.8 * len(X))\n",
    "X_train, X_test, y_train, y_test = X[:split], X[split:], y[:split], y[split:]"
   ],
   "metadata": {
    "collapsed": false,
    "ExecuteTime": {
     "end_time": "2023-12-18T21:02:29.685026649Z",
     "start_time": "2023-12-18T21:02:29.665254631Z"
    }
   },
   "id": "f22a033e7ce442ba"
  },
  {
   "cell_type": "code",
   "execution_count": 9,
   "outputs": [
    {
     "data": {
      "text/plain": "(torch.Size([40, 1]),\n torch.Size([10, 1]),\n torch.Size([40, 1]),\n torch.Size([10, 1]))"
     },
     "execution_count": 9,
     "metadata": {},
     "output_type": "execute_result"
    }
   ],
   "source": [
    "X_train.shape, X_test.shape, y_train.shape, y_test.shape"
   ],
   "metadata": {
    "collapsed": false,
    "ExecuteTime": {
     "end_time": "2023-12-18T21:02:29.728023478Z",
     "start_time": "2023-12-18T21:02:29.673897854Z"
    }
   },
   "id": "a391f32c7bfb584c"
  },
  {
   "cell_type": "code",
   "execution_count": 10,
   "outputs": [],
   "source": [
    "class CuadraticRegressionModel(nn.Module):\n",
    "    def __init__(self):\n",
    "        super().__init__()\n",
    "        self.m = nn.Parameter(torch.randn(1))\n",
    "        self.n = nn.Parameter(torch.randn(1))\n",
    "        self.a = nn.Parameter(torch.randn(1))\n",
    "    \n",
    "    def forward(self, x):\n",
    "        return torch.pow(x, 2) * self.m + x * self.n + self.a"
   ],
   "metadata": {
    "collapsed": false,
    "ExecuteTime": {
     "end_time": "2023-12-18T21:02:29.728337006Z",
     "start_time": "2023-12-18T21:02:29.727961129Z"
    }
   },
   "id": "c590577ed5f1d484"
  },
  {
   "cell_type": "code",
   "execution_count": 11,
   "outputs": [],
   "source": [
    "def plot_pred(y_pred=None):\n",
    "    fig, ax = plt.subplots(figsize=(10, 7))\n",
    "    ax.scatter(X_train, y_train, s=4, color='blue', label='Entrenamiento')\n",
    "    ax.scatter(X_test, y_test, s=4, color='green', label='Test')\n",
    "    \n",
    "    if y_pred is not None:\n",
    "        ax.scatter(X_test, y_pred, s=4, color='red', label='Predicciones')\n",
    "        \n",
    "    ax.legend(prop={'size': 15})"
   ],
   "metadata": {
    "collapsed": false,
    "ExecuteTime": {
     "end_time": "2023-12-18T21:02:29.728765943Z",
     "start_time": "2023-12-18T21:02:29.728032268Z"
    }
   },
   "id": "ab9226436bdae1fc"
  },
  {
   "cell_type": "code",
   "execution_count": 12,
   "outputs": [
    {
     "data": {
      "text/plain": "<Figure size 1000x700 with 1 Axes>",
      "image/png": "[encoded data removed]"
     },
     "metadata": {},
     "output_type": "display_data"
    }
   ],
   "source": [
    "plot_pred()"
   ],
   "metadata": {
    "collapsed": false,
    "ExecuteTime": {
     "end_time": "2023-12-18T21:02:29.866874369Z",
     "start_time": "2023-12-18T21:02:29.728069278Z"
    }
   },
   "id": "47972f13dd31d829"
  },
  {
   "cell_type": "code",
   "execution_count": 13,
   "outputs": [
    {
     "data": {
      "text/plain": "tensor([[31.2465],\n        [32.9657],\n        [34.7313],\n        [36.5432],\n        [38.4014],\n        [40.3059],\n        [42.2567],\n        [44.2539],\n        [46.2974],\n        [48.3873]])"
     },
     "execution_count": 13,
     "metadata": {},
     "output_type": "execute_result"
    }
   ],
   "source": [
    "model = CuadraticRegressionModel()\n",
    "\n",
    "with torch.inference_mode():\n",
    "    y_pred = model(X_test)\n",
    "y_pred"
   ],
   "metadata": {
    "collapsed": false,
    "ExecuteTime": {
     "end_time": "2023-12-18T21:02:29.867398236Z",
     "start_time": "2023-12-18T21:02:29.827964168Z"
    }
   },
   "id": "fea33cae86358162"
  },
  {
   "cell_type": "code",
   "execution_count": 14,
   "outputs": [
    {
     "data": {
      "text/plain": "<Figure size 1000x700 with 1 Axes>",
      "image/png": "[encoded data removed]"
     },
     "metadata": {},
     "output_type": "display_data"
    }
   ],
   "source": [
    "plot_pred(y_pred)"
   ],
   "metadata": {
    "collapsed": false,
    "ExecuteTime": {
     "end_time": "2023-12-18T21:02:29.960058993Z",
     "start_time": "2023-12-18T21:02:29.828054257Z"
    }
   },
   "id": "9f225a0d66926924"
  },
  {
   "cell_type": "code",
   "execution_count": 15,
   "outputs": [
    {
     "data": {
      "text/plain": "OrderedDict([('m', tensor([0.5791])),\n             ('n', tensor([-0.7852])),\n             ('a', tensor([0.4661]))])"
     },
     "execution_count": 15,
     "metadata": {},
     "output_type": "execute_result"
    }
   ],
   "source": [
    "model.state_dict()"
   ],
   "metadata": {
    "collapsed": false,
    "ExecuteTime": {
     "end_time": "2023-12-18T21:02:29.960413480Z",
     "start_time": "2023-12-18T21:02:29.943976766Z"
    }
   },
   "id": "be9e56be3e0b31a2"
  },
  {
   "cell_type": "code",
   "execution_count": 16,
   "outputs": [],
   "source": [
    "loss_fn = nn.MSELoss()\n",
    "optimizer = torch.optim.SGD(model.parameters(),\n",
    "                            lr=0.001)"
   ],
   "metadata": {
    "collapsed": false,
    "ExecuteTime": {
     "end_time": "2023-12-18T21:02:30.078759529Z",
     "start_time": "2023-12-18T21:02:29.944071995Z"
    }
   },
   "id": "b0e1bfe529f83334"
  },
  {
   "cell_type": "code",
   "execution_count": 17,
   "outputs": [
    {
     "name": "stdout",
     "output_type": "stream",
     "text": [
      "Epoch 0, loss: 227.58047485351562\n",
      "OrderedDict([('m', tensor([1.4110])), ('n', tensor([-0.6499])), ('a', tensor([0.4902]))])\n",
      "Epoch 10, loss: 2.075279951095581\n",
      "OrderedDict([('m', tensor([1.1020])), ('n', tensor([-0.6658])), ('a', tensor([0.4986]))])\n",
      "Epoch 20, loss: 1.9448715448379517\n",
      "OrderedDict([('m', tensor([1.0954])), ('n', tensor([-0.6348])), ('a', tensor([0.5146]))])\n",
      "Epoch 30, loss: 1.826139211654663\n",
      "OrderedDict([('m', tensor([1.0902])), ('n', tensor([-0.6046])), ('a', tensor([0.5302]))])\n",
      "Epoch 40, loss: 1.714778184890747\n",
      "OrderedDict([('m', tensor([1.0851])), ('n', tensor([-0.5753])), ('a', tensor([0.5452]))])\n",
      "Epoch 50, loss: 1.610329031944275\n",
      "OrderedDict([('m', tensor([1.0802])), ('n', tensor([-0.5470])), ('a', tensor([0.5597]))])\n",
      "Epoch 60, loss: 1.512363076210022\n",
      "OrderedDict([('m', tensor([1.0755])), ('n', tensor([-0.5195])), ('a', tensor([0.5737]))])\n",
      "Epoch 70, loss: 1.4204744100570679\n",
      "OrderedDict([('m', tensor([1.0709])), ('n', tensor([-0.4928])), ('a', tensor([0.5872]))])\n",
      "Epoch 80, loss: 1.3342866897583008\n",
      "OrderedDict([('m', tensor([1.0665])), ('n', tensor([-0.4670])), ('a', tensor([0.6003]))])\n",
      "Epoch 90, loss: 1.253449559211731\n",
      "OrderedDict([('m', tensor([1.0622])), ('n', tensor([-0.4420])), ('a', tensor([0.6129]))])\n",
      "Epoch 100, loss: 1.177623987197876\n",
      "OrderedDict([('m', tensor([1.0580])), ('n', tensor([-0.4177])), ('a', tensor([0.6251]))])\n",
      "Epoch 110, loss: 1.1065034866333008\n",
      "OrderedDict([('m', tensor([1.0539])), ('n', tensor([-0.3942])), ('a', tensor([0.6369]))])\n",
      "Epoch 120, loss: 1.0397944450378418\n",
      "OrderedDict([('m', tensor([1.0500])), ('n', tensor([-0.3714])), ('a', tensor([0.6483]))])\n",
      "Epoch 130, loss: 0.9772222638130188\n",
      "OrderedDict([('m', tensor([1.0462])), ('n', tensor([-0.3494])), ('a', tensor([0.6593]))])\n",
      "Epoch 140, loss: 0.9185296893119812\n",
      "OrderedDict([('m', tensor([1.0426])), ('n', tensor([-0.3280])), ('a', tensor([0.6699]))])\n",
      "Epoch 150, loss: 0.8634775876998901\n",
      "OrderedDict([('m', tensor([1.0390])), ('n', tensor([-0.3072])), ('a', tensor([0.6802]))])\n",
      "Epoch 160, loss: 0.811837375164032\n",
      "OrderedDict([('m', tensor([1.0355])), ('n', tensor([-0.2871])), ('a', tensor([0.6901]))])\n",
      "Epoch 170, loss: 0.7633993029594421\n",
      "OrderedDict([('m', tensor([1.0322])), ('n', tensor([-0.2677])), ('a', tensor([0.6997]))])\n",
      "Epoch 180, loss: 0.7179625630378723\n",
      "OrderedDict([('m', tensor([1.0290])), ('n', tensor([-0.2488])), ('a', tensor([0.7089]))])\n",
      "Epoch 190, loss: 0.6753415465354919\n",
      "OrderedDict([('m', tensor([1.0258])), ('n', tensor([-0.2305])), ('a', tensor([0.7178]))])\n",
      "Epoch 200, loss: 0.6353617906570435\n",
      "OrderedDict([('m', tensor([1.0228])), ('n', tensor([-0.2127])), ('a', tensor([0.7264]))])\n",
      "Epoch 210, loss: 0.5978585481643677\n",
      "OrderedDict([('m', tensor([1.0198])), ('n', tensor([-0.1955])), ('a', tensor([0.7347]))])\n",
      "Epoch 220, loss: 0.5626773834228516\n",
      "OrderedDict([('m', tensor([1.0170])), ('n', tensor([-0.1789])), ('a', tensor([0.7427]))])\n",
      "Epoch 230, loss: 0.529674768447876\n",
      "OrderedDict([('m', tensor([1.0142])), ('n', tensor([-0.1627])), ('a', tensor([0.7504]))])\n",
      "Epoch 240, loss: 0.4987151026725769\n",
      "OrderedDict([('m', tensor([1.0115])), ('n', tensor([-0.1471])), ('a', tensor([0.7579]))])\n",
      "Epoch 250, loss: 0.46967148780822754\n",
      "OrderedDict([('m', tensor([1.0089])), ('n', tensor([-0.1319])), ('a', tensor([0.7651]))])\n",
      "Epoch 260, loss: 0.44242581725120544\n",
      "OrderedDict([('m', tensor([1.0064])), ('n', tensor([-0.1171])), ('a', tensor([0.7720]))])\n",
      "Epoch 270, loss: 0.4168654978275299\n",
      "OrderedDict([('m', tensor([1.0039])), ('n', tensor([-0.1029])), ('a', tensor([0.7787]))])\n",
      "Epoch 280, loss: 0.39288651943206787\n",
      "OrderedDict([('m', tensor([1.0016])), ('n', tensor([-0.0890])), ('a', tensor([0.7851]))])\n",
      "Epoch 290, loss: 0.3703894019126892\n",
      "OrderedDict([('m', tensor([0.9993])), ('n', tensor([-0.0756])), ('a', tensor([0.7913]))])\n",
      "Epoch 300, loss: 0.3492829203605652\n",
      "OrderedDict([('m', tensor([0.9971])), ('n', tensor([-0.0626])), ('a', tensor([0.7973]))])\n",
      "Epoch 310, loss: 0.3294806480407715\n",
      "OrderedDict([('m', tensor([0.9949])), ('n', tensor([-0.0500])), ('a', tensor([0.8031]))])\n",
      "Epoch 320, loss: 0.3109021782875061\n",
      "OrderedDict([('m', tensor([0.9928])), ('n', tensor([-0.0378])), ('a', tensor([0.8086]))])\n",
      "Epoch 330, loss: 0.29347026348114014\n",
      "OrderedDict([('m', tensor([0.9908])), ('n', tensor([-0.0259])), ('a', tensor([0.8140]))])\n",
      "Epoch 340, loss: 0.27711424231529236\n",
      "OrderedDict([('m', tensor([0.9888])), ('n', tensor([-0.0144])), ('a', tensor([0.8191]))])\n",
      "Epoch 350, loss: 0.26176729798316956\n",
      "OrderedDict([('m', tensor([0.9869])), ('n', tensor([-0.0032])), ('a', tensor([0.8241]))])\n",
      "Epoch 360, loss: 0.247367262840271\n",
      "OrderedDict([('m', tensor([0.9851])), ('n', tensor([0.0076])), ('a', tensor([0.8289]))])\n",
      "Epoch 370, loss: 0.2338542938232422\n",
      "OrderedDict([('m', tensor([0.9833])), ('n', tensor([0.0181])), ('a', tensor([0.8335]))])\n",
      "Epoch 380, loss: 0.22117435932159424\n",
      "OrderedDict([('m', tensor([0.9816])), ('n', tensor([0.0283])), ('a', tensor([0.8379]))])\n",
      "Epoch 390, loss: 0.20927457511425018\n",
      "OrderedDict([('m', tensor([0.9799])), ('n', tensor([0.0381])), ('a', tensor([0.8422]))])\n",
      "Epoch 400, loss: 0.19810792803764343\n",
      "OrderedDict([('m', tensor([0.9783])), ('n', tensor([0.0477])), ('a', tensor([0.8462]))])\n",
      "Epoch 410, loss: 0.1876283586025238\n",
      "OrderedDict([('m', tensor([0.9767])), ('n', tensor([0.0570])), ('a', tensor([0.8502]))])\n",
      "Epoch 420, loss: 0.1777920424938202\n",
      "OrderedDict([('m', tensor([0.9751])), ('n', tensor([0.0660])), ('a', tensor([0.8540]))])\n",
      "Epoch 430, loss: 0.1685599535703659\n",
      "OrderedDict([('m', tensor([0.9737])), ('n', tensor([0.0748])), ('a', tensor([0.8576]))])\n",
      "Epoch 440, loss: 0.15989486873149872\n",
      "OrderedDict([('m', tensor([0.9722])), ('n', tensor([0.0833])), ('a', tensor([0.8611]))])\n",
      "Epoch 450, loss: 0.1517609804868698\n",
      "OrderedDict([('m', tensor([0.9708])), ('n', tensor([0.0915])), ('a', tensor([0.8644]))])\n",
      "Epoch 460, loss: 0.14412598311901093\n",
      "OrderedDict([('m', tensor([0.9695])), ('n', tensor([0.0995])), ('a', tensor([0.8677]))])\n",
      "Epoch 470, loss: 0.1369585394859314\n",
      "OrderedDict([('m', tensor([0.9682])), ('n', tensor([0.1072])), ('a', tensor([0.8707]))])\n",
      "Epoch 480, loss: 0.1302293986082077\n",
      "OrderedDict([('m', tensor([0.9669])), ('n', tensor([0.1147])), ('a', tensor([0.8737]))])\n",
      "Epoch 490, loss: 0.12391173839569092\n",
      "OrderedDict([('m', tensor([0.9657])), ('n', tensor([0.1220])), ('a', tensor([0.8765]))])\n",
      "Epoch 500, loss: 0.11797992140054703\n",
      "OrderedDict([('m', tensor([0.9645])), ('n', tensor([0.1291])), ('a', tensor([0.8793]))])\n",
      "Epoch 510, loss: 0.1124098151922226\n",
      "OrderedDict([('m', tensor([0.9633])), ('n', tensor([0.1360])), ('a', tensor([0.8819]))])\n",
      "Epoch 520, loss: 0.10717880725860596\n",
      "OrderedDict([('m', tensor([0.9622])), ('n', tensor([0.1427])), ('a', tensor([0.8844]))])\n",
      "Epoch 530, loss: 0.10226662456989288\n",
      "OrderedDict([('m', tensor([0.9611])), ('n', tensor([0.1492])), ('a', tensor([0.8868]))])\n",
      "Epoch 540, loss: 0.09765306860208511\n",
      "OrderedDict([('m', tensor([0.9600])), ('n', tensor([0.1554])), ('a', tensor([0.8891]))])\n",
      "Epoch 550, loss: 0.09331940114498138\n",
      "OrderedDict([('m', tensor([0.9590])), ('n', tensor([0.1616])), ('a', tensor([0.8912]))])\n",
      "Epoch 560, loss: 0.08924813568592072\n",
      "OrderedDict([('m', tensor([0.9580])), ('n', tensor([0.1675])), ('a', tensor([0.8933]))])\n",
      "Epoch 570, loss: 0.08542317152023315\n",
      "OrderedDict([('m', tensor([0.9570])), ('n', tensor([0.1732])), ('a', tensor([0.8953]))])\n",
      "Epoch 580, loss: 0.08182969689369202\n",
      "OrderedDict([('m', tensor([0.9561])), ('n', tensor([0.1788])), ('a', tensor([0.8972]))])\n",
      "Epoch 590, loss: 0.0784524530172348\n",
      "OrderedDict([('m', tensor([0.9552])), ('n', tensor([0.1843])), ('a', tensor([0.8991]))])\n",
      "Epoch 600, loss: 0.07527883350849152\n",
      "OrderedDict([('m', tensor([0.9543])), ('n', tensor([0.1895])), ('a', tensor([0.9008]))])\n",
      "Epoch 610, loss: 0.07229593396186829\n",
      "OrderedDict([('m', tensor([0.9535])), ('n', tensor([0.1946])), ('a', tensor([0.9025]))])\n",
      "Epoch 620, loss: 0.06949158757925034\n",
      "OrderedDict([('m', tensor([0.9526])), ('n', tensor([0.1996])), ('a', tensor([0.9040]))])\n",
      "Epoch 630, loss: 0.06685544550418854\n",
      "OrderedDict([('m', tensor([0.9518])), ('n', tensor([0.2045])), ('a', tensor([0.9055]))])\n",
      "Epoch 640, loss: 0.0643763467669487\n",
      "OrderedDict([('m', tensor([0.9510])), ('n', tensor([0.2092])), ('a', tensor([0.9070]))])\n",
      "Epoch 650, loss: 0.0620451495051384\n",
      "OrderedDict([('m', tensor([0.9503])), ('n', tensor([0.2137])), ('a', tensor([0.9083]))])\n",
      "Epoch 660, loss: 0.059852391481399536\n",
      "OrderedDict([('m', tensor([0.9495])), ('n', tensor([0.2181])), ('a', tensor([0.9096]))])\n",
      "Epoch 670, loss: 0.05778929591178894\n",
      "OrderedDict([('m', tensor([0.9488])), ('n', tensor([0.2225])), ('a', tensor([0.9108]))])\n",
      "Epoch 680, loss: 0.055848270654678345\n",
      "OrderedDict([('m', tensor([0.9481])), ('n', tensor([0.2266])), ('a', tensor([0.9119]))])\n",
      "Epoch 690, loss: 0.054021649062633514\n",
      "OrderedDict([('m', tensor([0.9475])), ('n', tensor([0.2307])), ('a', tensor([0.9130]))])\n",
      "Epoch 700, loss: 0.0523018017411232\n",
      "OrderedDict([('m', tensor([0.9468])), ('n', tensor([0.2347])), ('a', tensor([0.9140]))])\n",
      "Epoch 710, loss: 0.05068312957882881\n",
      "OrderedDict([('m', tensor([0.9462])), ('n', tensor([0.2385])), ('a', tensor([0.9150]))])\n",
      "Epoch 720, loss: 0.04915855452418327\n",
      "OrderedDict([('m', tensor([0.9455])), ('n', tensor([0.2422])), ('a', tensor([0.9159]))])\n",
      "Epoch 730, loss: 0.04772219806909561\n",
      "OrderedDict([('m', tensor([0.9449])), ('n', tensor([0.2459])), ('a', tensor([0.9168]))])\n",
      "Epoch 740, loss: 0.04636948183178902\n",
      "OrderedDict([('m', tensor([0.9444])), ('n', tensor([0.2494])), ('a', tensor([0.9176]))])\n",
      "Epoch 750, loss: 0.04509425163269043\n",
      "OrderedDict([('m', tensor([0.9438])), ('n', tensor([0.2529])), ('a', tensor([0.9183]))])\n",
      "Epoch 760, loss: 0.043892137706279755\n",
      "OrderedDict([('m', tensor([0.9433])), ('n', tensor([0.2562])), ('a', tensor([0.9190]))])\n",
      "Epoch 770, loss: 0.04275863245129585\n",
      "OrderedDict([('m', tensor([0.9427])), ('n', tensor([0.2594])), ('a', tensor([0.9197]))])\n",
      "Epoch 780, loss: 0.04168965667486191\n",
      "OrderedDict([('m', tensor([0.9422])), ('n', tensor([0.2626])), ('a', tensor([0.9203]))])\n",
      "Epoch 790, loss: 0.04068077355623245\n",
      "OrderedDict([('m', tensor([0.9417])), ('n', tensor([0.2657])), ('a', tensor([0.9208]))])\n",
      "Epoch 800, loss: 0.03972864896059036\n",
      "OrderedDict([('m', tensor([0.9412])), ('n', tensor([0.2687])), ('a', tensor([0.9213]))])\n",
      "Epoch 810, loss: 0.038829654455184937\n",
      "OrderedDict([('m', tensor([0.9407])), ('n', tensor([0.2716])), ('a', tensor([0.9218]))])\n",
      "Epoch 820, loss: 0.03798047453165054\n",
      "OrderedDict([('m', tensor([0.9403])), ('n', tensor([0.2744])), ('a', tensor([0.9222]))])\n",
      "Epoch 830, loss: 0.03717801347374916\n",
      "OrderedDict([('m', tensor([0.9398])), ('n', tensor([0.2772])), ('a', tensor([0.9226]))])\n",
      "Epoch 840, loss: 0.03641977906227112\n",
      "OrderedDict([('m', tensor([0.9394])), ('n', tensor([0.2799])), ('a', tensor([0.9230]))])\n",
      "Epoch 850, loss: 0.035702455788850784\n",
      "OrderedDict([('m', tensor([0.9390])), ('n', tensor([0.2825])), ('a', tensor([0.9233]))])\n",
      "Epoch 860, loss: 0.03502411022782326\n",
      "OrderedDict([('m', tensor([0.9386])), ('n', tensor([0.2851])), ('a', tensor([0.9235]))])\n",
      "Epoch 870, loss: 0.034381695091724396\n",
      "OrderedDict([('m', tensor([0.9382])), ('n', tensor([0.2876])), ('a', tensor([0.9238]))])\n",
      "Epoch 880, loss: 0.03377329185605049\n",
      "OrderedDict([('m', tensor([0.9378])), ('n', tensor([0.2900])), ('a', tensor([0.9240]))])\n",
      "Epoch 890, loss: 0.03319684416055679\n",
      "OrderedDict([('m', tensor([0.9374])), ('n', tensor([0.2923])), ('a', tensor([0.9242]))])\n",
      "Epoch 900, loss: 0.03265077620744705\n",
      "OrderedDict([('m', tensor([0.9370])), ('n', tensor([0.2946])), ('a', tensor([0.9243]))])\n",
      "Epoch 910, loss: 0.032132577151060104\n",
      "OrderedDict([('m', tensor([0.9367])), ('n', tensor([0.2969])), ('a', tensor([0.9244]))])\n",
      "Epoch 920, loss: 0.03164072707295418\n",
      "OrderedDict([('m', tensor([0.9363])), ('n', tensor([0.2991])), ('a', tensor([0.9245]))])\n",
      "Epoch 930, loss: 0.031173795461654663\n",
      "OrderedDict([('m', tensor([0.9360])), ('n', tensor([0.3012])), ('a', tensor([0.9246]))])\n",
      "Epoch 940, loss: 0.030730217695236206\n",
      "OrderedDict([('m', tensor([0.9356])), ('n', tensor([0.3033])), ('a', tensor([0.9246]))])\n",
      "Epoch 950, loss: 0.030308550223708153\n",
      "OrderedDict([('m', tensor([0.9353])), ('n', tensor([0.3053])), ('a', tensor([0.9246]))])\n",
      "Epoch 960, loss: 0.029907066375017166\n",
      "OrderedDict([('m', tensor([0.9350])), ('n', tensor([0.3073])), ('a', tensor([0.9246]))])\n",
      "Epoch 970, loss: 0.029525166377425194\n",
      "OrderedDict([('m', tensor([0.9347])), ('n', tensor([0.3092])), ('a', tensor([0.9245]))])\n",
      "Epoch 980, loss: 0.029161205515265465\n",
      "OrderedDict([('m', tensor([0.9344])), ('n', tensor([0.3111])), ('a', tensor([0.9244]))])\n",
      "Epoch 990, loss: 0.028814351186156273\n",
      "OrderedDict([('m', tensor([0.9341])), ('n', tensor([0.3129])), ('a', tensor([0.9243]))])\n"
     ]
    }
   ],
   "source": [
    "epochs = 1000\n",
    "for epoch in range(epochs):\n",
    "    model.train()\n",
    "    y_pred_step = model(X_train)\n",
    "    loss = loss_fn(y_pred_step, y_train)\n",
    "    optimizer.zero_grad()\n",
    "    loss.backward()\n",
    "    optimizer.step()\n",
    "    \n",
    "    model.eval()\n",
    "    if epoch % 10 == 0:\n",
    "        with torch.inference_mode():\n",
    "            print(f\"Epoch {epoch}, loss: {loss}\")\n",
    "            print(model.state_dict())\n",
    "    "
   ],
   "metadata": {
    "collapsed": false,
    "ExecuteTime": {
     "end_time": "2023-12-18T21:02:30.327983622Z",
     "start_time": "2023-12-18T21:02:30.079852181Z"
    }
   },
   "id": "6d07e88217b420c4"
  },
  {
   "cell_type": "code",
   "execution_count": 18,
   "outputs": [
    {
     "data": {
      "text/plain": "(0.9, 0.6, 0.5)"
     },
     "execution_count": 18,
     "metadata": {},
     "output_type": "execute_result"
    }
   ],
   "source": [
    "m, n, a"
   ],
   "metadata": {
    "collapsed": false,
    "ExecuteTime": {
     "end_time": "2023-12-18T21:02:30.328368869Z",
     "start_time": "2023-12-18T21:02:30.327937172Z"
    }
   },
   "id": "d5dd76d12fd63724"
  },
  {
   "cell_type": "code",
   "execution_count": 19,
   "outputs": [
    {
     "data": {
      "text/plain": "<Figure size 1000x700 with 1 Axes>",
      "image/png": "[encoded data removed]"
     },
     "metadata": {},
     "output_type": "display_data"
    }
   ],
   "source": [
    "model.eval()\n",
    "with torch.inference_mode():\n",
    "    y_pred_final = model(X_test)\n",
    "plot_pred(y_pred_final)"
   ],
   "metadata": {
    "collapsed": false,
    "ExecuteTime": {
     "end_time": "2023-12-18T21:02:30.444280767Z",
     "start_time": "2023-12-18T21:02:30.327998861Z"
    }
   },
   "id": "92bf9f34fd478851"
  },
  {
   "cell_type": "code",
   "execution_count": 20,
   "outputs": [
    {
     "data": {
      "text/plain": "<matplotlib.legend.Legend at 0x7ff16dca59d0>"
     },
     "execution_count": 20,
     "metadata": {},
     "output_type": "execute_result"
    },
    {
     "data": {
      "text/plain": "<Figure size 1000x700 with 1 Axes>",
      "image/png": "[encoded data removed]"
     },
     "metadata": {},
     "output_type": "display_data"
    }
   ],
   "source": [
    "fix, ax = plt.subplots(figsize=(10, 7))\n",
    "\n",
    "ax.scatter(X_train, y_train, s=10, color='blue', label='Training data')\n",
    "ax.scatter(X_test, y_test, s=10, color='green', label='Test data')\n",
    "ax.scatter(X_test, y_pred, s=10, color='red', label='Primeras predicciones')\n",
    "ax.scatter(X_test, y_pred_final, s=10, color='orange', label='Predicciones finales')\n",
    "ax.legend(prop={'size': 14})"
   ],
   "metadata": {
    "collapsed": false,
    "ExecuteTime": {
     "end_time": "2023-12-18T21:02:30.466244639Z",
     "start_time": "2023-12-18T21:02:30.415950235Z"
    }
   },
   "id": "77b397172c643a2"
  },
  {
   "cell_type": "code",
   "execution_count": 20,
   "outputs": [],
   "source": [],
   "metadata": {
    "collapsed": false,
    "ExecuteTime": {
     "end_time": "2023-12-18T21:02:30.466522337Z",
     "start_time": "2023-12-18T21:02:30.464793719Z"
    }
   },
   "id": "2cbd181ff7d8a346"
  }
 ],
 "metadata": {
  "kernelspec": {
   "display_name": "Python 3",
   "language": "python",
   "name": "python3"
  },
  "language_info": {
   "codemirror_mode": {
    "name": "ipython",
    "version": 2
   },
   "file_extension": ".py",
   "mimetype": "text/x-python",
   "name": "python",
   "nbconvert_exporter": "python",
   "pygments_lexer": "ipython2",
   "version": "2.7.6"
  }
 },
 "nbformat": 4,
 "nbformat_minor": 5
}
