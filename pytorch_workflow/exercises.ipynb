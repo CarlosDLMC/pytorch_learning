{
 "cells": [
  {
   "cell_type": "code",
   "execution_count": 1,
   "id": "initial_id",
   "metadata": {
    "collapsed": true,
    "ExecuteTime": {
     "end_time": "2023-12-19T10:27:54.399777030Z",
     "start_time": "2023-12-19T10:27:53.542351043Z"
    }
   },
   "outputs": [],
   "source": [
    "import torch\n",
    "from torch import nn\n",
    "import matplotlib.pyplot as plt"
   ]
  },
  {
   "cell_type": "markdown",
   "source": [
    "## 1. Create a straight line dataset using the linear regression formula (weight * X + bias).\n",
    "\n",
    "   * Set weight=0.3 and bias=0.9 there should be at least 100 datapoints total.\n",
    "   * Split the data into 80% training, 20% testing.\n",
    "   * Plot the training and testing data so it becomes visual.\n"
   ],
   "metadata": {
    "collapsed": false
   },
   "id": "9c14e1fad16ff615"
  },
  {
   "cell_type": "code",
   "execution_count": 2,
   "outputs": [
    {
     "data": {
      "text/plain": "(tensor([[0.0000],\n         [0.1010],\n         [0.2020],\n         [0.3030],\n         [0.4040],\n         [0.5051],\n         [0.6061],\n         [0.7071],\n         [0.8081],\n         [0.9091]], device='cuda:0'),\n tensor([[0.9000],\n         [0.9303],\n         [0.9606],\n         [0.9909],\n         [1.0212],\n         [1.0515],\n         [1.0818],\n         [1.1121],\n         [1.1424],\n         [1.1727]], device='cuda:0'))"
     },
     "execution_count": 2,
     "metadata": {},
     "output_type": "execute_result"
    }
   ],
   "source": [
    "X = torch.linspace(0, 10, 100).to('cuda') # at least 100 datapoints\n",
    "X = X.unsqueeze(dim=1)\n",
    "weight, bias = 0.3, 0.9\n",
    "y = weight * X + bias\n",
    "\n",
    "X[:10], y[:10]"
   ],
   "metadata": {
    "collapsed": false,
    "ExecuteTime": {
     "end_time": "2023-12-19T10:27:54.600227293Z",
     "start_time": "2023-12-19T10:27:54.446374290Z"
    }
   },
   "id": "8e8642ee98144b67"
  },
  {
   "cell_type": "code",
   "execution_count": 3,
   "outputs": [
    {
     "data": {
      "text/plain": "(torch.Size([80, 1]),\n torch.Size([80, 1]),\n torch.Size([20, 1]),\n torch.Size([20, 1]))"
     },
     "execution_count": 3,
     "metadata": {},
     "output_type": "execute_result"
    }
   ],
   "source": [
    "# train test split\n",
    "train_volume = 0.8\n",
    "split = int(train_volume * len(X))\n",
    "\n",
    "X_train, y_train = X[:split], y[:split]\n",
    "X_test, y_test = X[split:], y[split:]\n",
    "\n",
    "X_train.shape, y_train.shape, X_test.shape, y_test.shape"
   ],
   "metadata": {
    "collapsed": false,
    "ExecuteTime": {
     "end_time": "2023-12-19T10:27:54.602999336Z",
     "start_time": "2023-12-19T10:27:54.601647865Z"
    }
   },
   "id": "98a0b926ff3152d9"
  },
  {
   "cell_type": "code",
   "execution_count": 4,
   "outputs": [],
   "source": [
    "def plot_predictions(predictions=None):\n",
    "    fig, ax = plt.subplots(figsize=(10, 7))\n",
    "    ax.scatter(X_train.cpu(), y_train.cpu(), color='blue', label='training data')\n",
    "    ax.scatter(X_test.cpu(), y_test.cpu(), color='green', label='test data')\n",
    "    \n",
    "    if predictions is not None:\n",
    "        ax.scatter(X_test.cpu(), predictions.cpu(), color='red', label='predictions')\n",
    "    ax.legend(prop={'size': 14})"
   ],
   "metadata": {
    "collapsed": false,
    "ExecuteTime": {
     "end_time": "2023-12-19T10:27:54.612691206Z",
     "start_time": "2023-12-19T10:27:54.604340328Z"
    }
   },
   "id": "50739cd2489f03e7"
  },
  {
   "cell_type": "code",
   "execution_count": 5,
   "outputs": [
    {
     "data": {
      "text/plain": "<Figure size 1000x700 with 1 Axes>",
      "image/png": "[encoded data removed]"
     },
     "metadata": {},
     "output_type": "display_data"
    }
   ],
   "source": [
    "plot_predictions()"
   ],
   "metadata": {
    "collapsed": false,
    "ExecuteTime": {
     "end_time": "2023-12-19T10:27:54.780766620Z",
     "start_time": "2023-12-19T10:27:54.613880358Z"
    }
   },
   "id": "b543510171c3e048"
  },
  {
   "cell_type": "markdown",
   "source": [
    "## 2. Build a PyTorch model by subclassing nn.Module.\n",
    "  * Inside should be a randomly initialized nn.Parameter() with requires_grad=True, one for weights and one for bias.\n",
    "  * Implement the forward() method to compute the linear regression function you used to create the dataset in 1.\n",
    "  * Once you've constructed the model, make an instance of it and check its state_dict().\n",
    "  * Note: If you'd like to use nn.Linear() instead of nn.Parameter() you can."
   ],
   "metadata": {
    "collapsed": false
   },
   "id": "122878432cc6f486"
  },
  {
   "cell_type": "code",
   "execution_count": 6,
   "outputs": [],
   "source": [
    "# From the pytorch documentation, the linear layer follows the linear equation\n",
    "# https://pytorch.org/docs/stable/generated/torch.nn.Linear.html\n",
    "class LinearRegressionModel(nn.Module):\n",
    "    def __init__(self):\n",
    "        super().__init__()\n",
    "        self.linear_layer = nn.Linear(in_features=1,\n",
    "                                      out_features=1)\n",
    "    \n",
    "    def forward(self, x):\n",
    "        return self.linear_layer(x)"
   ],
   "metadata": {
    "collapsed": false,
    "ExecuteTime": {
     "end_time": "2023-12-19T10:27:54.780997249Z",
     "start_time": "2023-12-19T10:27:54.746405115Z"
    }
   },
   "id": "60e0ab3213b8083f"
  },
  {
   "cell_type": "code",
   "execution_count": 7,
   "outputs": [
    {
     "data": {
      "text/plain": "OrderedDict([('linear_layer.weight', tensor([[-0.2110]], device='cuda:0')),\n             ('linear_layer.bias', tensor([0.5148], device='cuda:0'))])"
     },
     "execution_count": 7,
     "metadata": {},
     "output_type": "execute_result"
    }
   ],
   "source": [
    "model = LinearRegressionModel().to('cuda')\n",
    "model.state_dict()"
   ],
   "metadata": {
    "collapsed": false,
    "ExecuteTime": {
     "end_time": "2023-12-19T10:27:54.781187988Z",
     "start_time": "2023-12-19T10:27:54.746482134Z"
    }
   },
   "id": "96e54b7d97379764"
  },
  {
   "cell_type": "markdown",
   "source": [
    "## 3. Create a loss function and optimizer using nn.L1Loss() and torch.optim.SGD(params, lr) respectively.\n",
    "\n",
    "  * Set the learning rate of the optimizer to be 0.01 and the parameters to optimize should be the model parameters from the model you created in 2.\n",
    "  * Write a training loop to perform the appropriate training steps for 300 epochs.\n",
    "  * The training loop should test the model on the test dataset every 20 epochs."
   ],
   "metadata": {
    "collapsed": false
   },
   "id": "5f2cf4e0a60aa8d9"
  },
  {
   "cell_type": "code",
   "execution_count": 8,
   "outputs": [],
   "source": [
    "loss_fn = nn.L1Loss()\n",
    "optimizer = torch.optim.SGD(model.parameters(), \n",
    "                            lr=0.01)"
   ],
   "metadata": {
    "collapsed": false,
    "ExecuteTime": {
     "end_time": "2023-12-19T10:27:54.823509954Z",
     "start_time": "2023-12-19T10:27:54.746526284Z"
    }
   },
   "id": "2579463998d95c78"
  },
  {
   "cell_type": "code",
   "execution_count": 9,
   "outputs": [
    {
     "name": "stdout",
     "output_type": "stream",
     "text": [
      "Epoch 0, loss: 4.6342058181762695\n",
      "OrderedDict([('linear_layer.weight', tensor([[-0.1711]], device='cuda:0')), ('linear_layer.bias', tensor([0.5248], device='cuda:0'))])\n",
      "Epoch 20, loss: 0.11652828752994537\n",
      "OrderedDict([('linear_layer.weight', tensor([[0.3370]], device='cuda:0')), ('linear_layer.bias', tensor([0.6821], device='cuda:0'))])\n",
      "Epoch 40, loss: 0.09721117466688156\n",
      "OrderedDict([('linear_layer.weight', tensor([[0.3269]], device='cuda:0')), ('linear_layer.bias', tensor([0.7541], device='cuda:0'))])\n",
      "Epoch 60, loss: 0.09541976451873779\n",
      "OrderedDict([('linear_layer.weight', tensor([[0.3203]], device='cuda:0')), ('linear_layer.bias', tensor([0.8123], device='cuda:0'))])\n",
      "Epoch 80, loss: 0.3480575680732727\n",
      "OrderedDict([('linear_layer.weight', tensor([[0.3434]], device='cuda:0')), ('linear_layer.bias', tensor([0.8561], device='cuda:0'))])\n",
      "Epoch 100, loss: 0.2838924825191498\n",
      "OrderedDict([('linear_layer.weight', tensor([[0.3337]], device='cuda:0')), ('linear_layer.bias', tensor([0.8796], device='cuda:0'))])\n",
      "Epoch 120, loss: 0.31593844294548035\n",
      "OrderedDict([('linear_layer.weight', tensor([[0.3359]], device='cuda:0')), ('linear_layer.bias', tensor([0.8911], device='cuda:0'))])\n",
      "Epoch 140, loss: 0.324862003326416\n",
      "OrderedDict([('linear_layer.weight', tensor([[0.3363]], device='cuda:0')), ('linear_layer.bias', tensor([0.8966], device='cuda:0'))])\n",
      "Epoch 160, loss: 0.3273618817329407\n",
      "OrderedDict([('linear_layer.weight', tensor([[0.3363]], device='cuda:0')), ('linear_layer.bias', tensor([0.8991], device='cuda:0'))])\n",
      "Epoch 180, loss: 0.3283618092536926\n",
      "OrderedDict([('linear_layer.weight', tensor([[0.3363]], device='cuda:0')), ('linear_layer.bias', tensor([0.9001], device='cuda:0'))])\n",
      "Epoch 200, loss: 0.3283618092536926\n",
      "OrderedDict([('linear_layer.weight', tensor([[0.3363]], device='cuda:0')), ('linear_layer.bias', tensor([0.9001], device='cuda:0'))])\n",
      "Epoch 220, loss: 0.3283618092536926\n",
      "OrderedDict([('linear_layer.weight', tensor([[0.3363]], device='cuda:0')), ('linear_layer.bias', tensor([0.9001], device='cuda:0'))])\n",
      "Epoch 240, loss: 0.3283618092536926\n",
      "OrderedDict([('linear_layer.weight', tensor([[0.3363]], device='cuda:0')), ('linear_layer.bias', tensor([0.9001], device='cuda:0'))])\n",
      "Epoch 260, loss: 0.3283618092536926\n",
      "OrderedDict([('linear_layer.weight', tensor([[0.3363]], device='cuda:0')), ('linear_layer.bias', tensor([0.9001], device='cuda:0'))])\n",
      "Epoch 280, loss: 0.3283618092536926\n",
      "OrderedDict([('linear_layer.weight', tensor([[0.3363]], device='cuda:0')), ('linear_layer.bias', tensor([0.9001], device='cuda:0'))])\n"
     ]
    }
   ],
   "source": [
    "# Training the model\n",
    "epochs = 300\n",
    "for epoch in range(epochs):\n",
    "    model.train()\n",
    "    y_pred_step = model(X_train)\n",
    "    loss = loss_fn(y_pred_step, y_train)\n",
    "    optimizer.zero_grad()\n",
    "    loss.backward()\n",
    "    optimizer.step()\n",
    "    \n",
    "    if epoch % 20 == 0:\n",
    "        model.eval()\n",
    "        with torch.inference_mode():\n",
    "            y_pred_test = model(X_test)\n",
    "            loss = loss_fn(y_pred_test, y_test)\n",
    "            \n",
    "            print(f\"Epoch {epoch}, loss: {loss}\")\n",
    "            print(model.state_dict())"
   ],
   "metadata": {
    "collapsed": false,
    "ExecuteTime": {
     "end_time": "2023-12-19T10:27:55.048763403Z",
     "start_time": "2023-12-19T10:27:54.824345359Z"
    }
   },
   "id": "b924943f72bb79ef"
  },
  {
   "cell_type": "markdown",
   "source": [
    "### with GPU (training 300 epochs):\n",
    "CPU times: user 1 µs, sys: 1e+03 ns, total: 2 µs\n",
    "Wall time: 2.86 µs"
   ],
   "metadata": {
    "collapsed": false
   },
   "id": "cc93ba7acb07a44f"
  },
  {
   "cell_type": "markdown",
   "source": [
    "### with CPU (training 300 epochs)\n",
    "CPU times: user 1 µs, sys: 1e+03 ns, total: 2 µs\n",
    "Wall time: 3.58 µs"
   ],
   "metadata": {
    "collapsed": false
   },
   "id": "ef45a0a08c6a6837"
  },
  {
   "cell_type": "markdown",
   "source": [
    "## 4. Make predictions with the trained model on the test data.\n",
    "  * Visualize these predictions against the original training and testing data (note: you may need to make sure the predictions are not on the GPU if you want to use non-CUDA-enabled libraries such as matplotlib to plot)."
   ],
   "metadata": {
    "collapsed": false
   },
   "id": "75f29a7888cbd815"
  },
  {
   "cell_type": "code",
   "execution_count": 10,
   "outputs": [
    {
     "data": {
      "text/plain": "<Figure size 1000x700 with 1 Axes>",
      "image/png": "[encoded data removed]"
     },
     "metadata": {},
     "output_type": "display_data"
    }
   ],
   "source": [
    "model.eval()\n",
    "with torch.inference_mode():\n",
    "    y_final_pred = model(X_test)\n",
    "plot_predictions(y_final_pred)"
   ],
   "metadata": {
    "collapsed": false,
    "ExecuteTime": {
     "end_time": "2023-12-19T10:27:55.251603021Z",
     "start_time": "2023-12-19T10:27:55.050332493Z"
    }
   },
   "id": "76c88f28d4d0f8c6"
  },
  {
   "cell_type": "markdown",
   "source": [
    "## 5. Save your trained model's state_dict() to file\n",
    "  * Create a new instance of your model class you made in 2. and load in the state_dict() you just saved to it.\n",
    "  * Perform predictions on your test data with the loaded model and confirm they match the original model predictions from 4."
   ],
   "metadata": {
    "collapsed": false
   },
   "id": "d763bd8cd54ba6d9"
  },
  {
   "cell_type": "code",
   "execution_count": 11,
   "outputs": [],
   "source": [
    "torch.save(model.state_dict(), \"./models/exercise_model_state.pth\")"
   ],
   "metadata": {
    "collapsed": false,
    "ExecuteTime": {
     "end_time": "2023-12-19T10:31:21.594436070Z",
     "start_time": "2023-12-19T10:31:21.551101682Z"
    }
   },
   "id": "6a3ae952e9130b57"
  },
  {
   "cell_type": "code",
   "execution_count": 12,
   "outputs": [
    {
     "data": {
      "text/plain": "OrderedDict([('linear_layer.weight', tensor([[0.2964]], device='cuda:0')),\n             ('linear_layer.bias', tensor([0.8901], device='cuda:0'))])"
     },
     "execution_count": 12,
     "metadata": {},
     "output_type": "execute_result"
    }
   ],
   "source": [
    "loaded_model = LinearRegressionModel().to('cuda')\n",
    "loaded_model.load_state_dict(torch.load(\"./models/exercise_model_state.pth\"))\n",
    "\n",
    "loaded_model.state_dict()\n"
   ],
   "metadata": {
    "collapsed": false,
    "ExecuteTime": {
     "end_time": "2023-12-19T10:32:45.584655961Z",
     "start_time": "2023-12-19T10:32:45.531432827Z"
    }
   },
   "id": "afa404de8cf1d41"
  },
  {
   "cell_type": "code",
   "execution_count": 13,
   "outputs": [
    {
     "data": {
      "text/plain": "tensor([[True],\n        [True],\n        [True],\n        [True],\n        [True],\n        [True],\n        [True],\n        [True],\n        [True],\n        [True],\n        [True],\n        [True],\n        [True],\n        [True],\n        [True],\n        [True],\n        [True],\n        [True],\n        [True],\n        [True]], device='cuda:0')"
     },
     "execution_count": 13,
     "metadata": {},
     "output_type": "execute_result"
    }
   ],
   "source": [
    "loaded_model.eval()\n",
    "with torch.inference_mode():\n",
    "    loaded_model_preds = loaded_model(X_test)\n",
    "    \n",
    "loaded_model_preds == y_final_pred"
   ],
   "metadata": {
    "collapsed": false,
    "ExecuteTime": {
     "end_time": "2023-12-19T10:33:50.194572267Z",
     "start_time": "2023-12-19T10:33:50.150857190Z"
    }
   },
   "id": "f5bf23b2d43a135c"
  },
  {
   "cell_type": "code",
   "execution_count": null,
   "outputs": [],
   "source": [],
   "metadata": {
    "collapsed": false
   },
   "id": "ff6f94a6f8fb12f4"
  }
 ],
 "metadata": {
  "kernelspec": {
   "display_name": "Python 3",
   "language": "python",
   "name": "python3"
  },
  "language_info": {
   "codemirror_mode": {
    "name": "ipython",
    "version": 2
   },
   "file_extension": ".py",
   "mimetype": "text/x-python",
   "name": "python",
   "nbconvert_exporter": "python",
   "pygments_lexer": "ipython2",
   "version": "2.7.6"
  }
 },
 "nbformat": 4,
 "nbformat_minor": 5
}
