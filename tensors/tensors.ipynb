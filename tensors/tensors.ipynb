{
 "cells": [
  {
   "cell_type": "markdown",
   "source": [
    "# Playing around and discovering tensors in pytorch"
   ],
   "metadata": {
    "collapsed": false
   },
   "id": "9a1f1d6f11865e26"
  },
  {
   "cell_type": "code",
   "execution_count": 1,
   "id": "initial_id",
   "metadata": {
    "collapsed": true,
    "ExecuteTime": {
     "end_time": "2023-12-17T14:45:45.938833684Z",
     "start_time": "2023-12-17T14:45:45.060369306Z"
    }
   },
   "outputs": [],
   "source": [
    "import torch"
   ]
  },
  {
   "cell_type": "code",
   "execution_count": 2,
   "outputs": [],
   "source": [
    "# scalar\n",
    "scalar = torch.tensor(7)"
   ],
   "metadata": {
    "collapsed": false,
    "ExecuteTime": {
     "end_time": "2023-12-17T14:45:45.954152161Z",
     "start_time": "2023-12-17T14:45:45.938629125Z"
    }
   },
   "id": "5aafc48a3970a67f"
  },
  {
   "cell_type": "code",
   "execution_count": 3,
   "outputs": [
    {
     "data": {
      "text/plain": "tensor(7)"
     },
     "execution_count": 3,
     "metadata": {},
     "output_type": "execute_result"
    }
   ],
   "source": [
    "scalar"
   ],
   "metadata": {
    "collapsed": false,
    "ExecuteTime": {
     "end_time": "2023-12-17T14:45:45.957928850Z",
     "start_time": "2023-12-17T14:45:45.938864414Z"
    }
   },
   "id": "c6e720ffabe24afd"
  },
  {
   "cell_type": "code",
   "execution_count": 4,
   "outputs": [
    {
     "data": {
      "text/plain": "torch.Tensor"
     },
     "execution_count": 4,
     "metadata": {},
     "output_type": "execute_result"
    }
   ],
   "source": [
    "type(scalar)"
   ],
   "metadata": {
    "collapsed": false,
    "ExecuteTime": {
     "end_time": "2023-12-17T14:45:46.018882266Z",
     "start_time": "2023-12-17T14:45:45.942576894Z"
    }
   },
   "id": "e7f1d398e8ef90c3"
  },
  {
   "cell_type": "code",
   "execution_count": 5,
   "outputs": [
    {
     "data": {
      "text/plain": "0"
     },
     "execution_count": 5,
     "metadata": {},
     "output_type": "execute_result"
    }
   ],
   "source": [
    "scalar.ndim"
   ],
   "metadata": {
    "collapsed": false,
    "ExecuteTime": {
     "end_time": "2023-12-17T14:45:46.031350259Z",
     "start_time": "2023-12-17T14:45:45.984709853Z"
    }
   },
   "id": "40829376a3b45c8d"
  },
  {
   "cell_type": "code",
   "execution_count": 6,
   "outputs": [
    {
     "data": {
      "text/plain": "torch.Size([])"
     },
     "execution_count": 6,
     "metadata": {},
     "output_type": "execute_result"
    }
   ],
   "source": [
    "scalar.shape"
   ],
   "metadata": {
    "collapsed": false,
    "ExecuteTime": {
     "end_time": "2023-12-17T14:45:46.033263209Z",
     "start_time": "2023-12-17T14:45:45.984983142Z"
    }
   },
   "id": "4fc2e521182d4a6b"
  },
  {
   "cell_type": "code",
   "execution_count": 7,
   "outputs": [],
   "source": [
    "vector = torch.tensor([7, 7])"
   ],
   "metadata": {
    "collapsed": false,
    "ExecuteTime": {
     "end_time": "2023-12-17T14:45:46.034926400Z",
     "start_time": "2023-12-17T14:45:45.985140981Z"
    }
   },
   "id": "202fa3d611818f38"
  },
  {
   "cell_type": "code",
   "execution_count": 8,
   "outputs": [],
   "source": [
    "# vector.item() RUNTIME ERROR"
   ],
   "metadata": {
    "collapsed": false,
    "ExecuteTime": {
     "end_time": "2023-12-17T14:45:46.044104940Z",
     "start_time": "2023-12-17T14:45:45.985331210Z"
    }
   },
   "id": "410aab02c89e63d5"
  },
  {
   "cell_type": "code",
   "execution_count": 9,
   "outputs": [
    {
     "data": {
      "text/plain": "1"
     },
     "execution_count": 9,
     "metadata": {},
     "output_type": "execute_result"
    }
   ],
   "source": [
    "vector.ndim"
   ],
   "metadata": {
    "collapsed": false,
    "ExecuteTime": {
     "end_time": "2023-12-17T14:45:46.108010029Z",
     "start_time": "2023-12-17T14:45:45.989814676Z"
    }
   },
   "id": "ad60392ad9b0aae5"
  },
  {
   "cell_type": "code",
   "execution_count": 10,
   "outputs": [
    {
     "data": {
      "text/plain": "torch.Size([2])"
     },
     "execution_count": 10,
     "metadata": {},
     "output_type": "execute_result"
    }
   ],
   "source": [
    "vector.shape"
   ],
   "metadata": {
    "collapsed": false,
    "ExecuteTime": {
     "end_time": "2023-12-17T14:45:46.117642837Z",
     "start_time": "2023-12-17T14:45:46.040388609Z"
    }
   },
   "id": "550ba08114435de9"
  },
  {
   "cell_type": "code",
   "execution_count": 11,
   "outputs": [
    {
     "data": {
      "text/plain": "tensor([[7, 8],\n        [3, 4]])"
     },
     "execution_count": 11,
     "metadata": {},
     "output_type": "execute_result"
    }
   ],
   "source": [
    "MATRIX = torch.tensor([[7, 8],\n",
    "                       [3, 4]])\n",
    "MATRIX"
   ],
   "metadata": {
    "collapsed": false,
    "ExecuteTime": {
     "end_time": "2023-12-17T14:45:46.117965575Z",
     "start_time": "2023-12-17T14:45:46.040633348Z"
    }
   },
   "id": "75ea8d2858608893"
  },
  {
   "cell_type": "code",
   "execution_count": 12,
   "outputs": [
    {
     "data": {
      "text/plain": "2"
     },
     "execution_count": 12,
     "metadata": {},
     "output_type": "execute_result"
    }
   ],
   "source": [
    "MATRIX.ndim"
   ],
   "metadata": {
    "collapsed": false,
    "ExecuteTime": {
     "end_time": "2023-12-17T14:45:46.120037543Z",
     "start_time": "2023-12-17T14:45:46.040945666Z"
    }
   },
   "id": "cac31ce500badc50"
  },
  {
   "cell_type": "code",
   "execution_count": 13,
   "outputs": [
    {
     "data": {
      "text/plain": "torch.Size([2, 2])"
     },
     "execution_count": 13,
     "metadata": {},
     "output_type": "execute_result"
    }
   ],
   "source": [
    "MATRIX.shape"
   ],
   "metadata": {
    "collapsed": false,
    "ExecuteTime": {
     "end_time": "2023-12-17T14:45:46.134182657Z",
     "start_time": "2023-12-17T14:45:46.041171555Z"
    }
   },
   "id": "357da7d7197aa4d2"
  },
  {
   "cell_type": "code",
   "execution_count": 14,
   "outputs": [],
   "source": [
    "TENSOR = torch.tensor([[[1, 2, 3, 5],\n",
    "                        [4, 5, 6, 8],\n",
    "                        [4, 6, 9, 0]],\n",
    "                       [[1, 2, 3, 5],\n",
    "                        [7, 8, 9, 8],\n",
    "                        [9, 8, 7, 6]]])"
   ],
   "metadata": {
    "collapsed": false,
    "ExecuteTime": {
     "end_time": "2023-12-17T14:45:46.141916365Z",
     "start_time": "2023-12-17T14:45:46.046851884Z"
    }
   },
   "id": "ac42879ccfd5b2fe"
  },
  {
   "cell_type": "code",
   "execution_count": 15,
   "outputs": [
    {
     "data": {
      "text/plain": "3"
     },
     "execution_count": 15,
     "metadata": {},
     "output_type": "execute_result"
    }
   ],
   "source": [
    "TENSOR.ndim # ndim can be interpretated as the amount of square brackets"
   ],
   "metadata": {
    "collapsed": false,
    "ExecuteTime": {
     "end_time": "2023-12-17T14:45:46.148049511Z",
     "start_time": "2023-12-17T14:45:46.092209366Z"
    }
   },
   "id": "32b35d751b46e159"
  },
  {
   "cell_type": "code",
   "execution_count": 16,
   "outputs": [
    {
     "data": {
      "text/plain": "torch.Size([2, 3, 4])"
     },
     "execution_count": 16,
     "metadata": {},
     "output_type": "execute_result"
    }
   ],
   "source": [
    "TENSOR.size()"
   ],
   "metadata": {
    "collapsed": false,
    "ExecuteTime": {
     "end_time": "2023-12-17T14:45:46.150015310Z",
     "start_time": "2023-12-17T14:45:46.092439745Z"
    }
   },
   "id": "71e8b7298a8fdab7"
  },
  {
   "cell_type": "code",
   "execution_count": 17,
   "outputs": [
    {
     "data": {
      "text/plain": "tensor([[1, 2, 3, 5],\n        [7, 8, 9, 8],\n        [9, 8, 7, 6]])"
     },
     "execution_count": 17,
     "metadata": {},
     "output_type": "execute_result"
    }
   ],
   "source": [
    "TENSOR[1]"
   ],
   "metadata": {
    "collapsed": false,
    "ExecuteTime": {
     "end_time": "2023-12-17T14:45:46.151916919Z",
     "start_time": "2023-12-17T14:45:46.092591204Z"
    }
   },
   "id": "28b6b888fb626473"
  },
  {
   "cell_type": "code",
   "execution_count": 18,
   "outputs": [
    {
     "data": {
      "text/plain": "(2, torch.Size([3, 4]))"
     },
     "execution_count": 18,
     "metadata": {},
     "output_type": "execute_result"
    }
   ],
   "source": [
    "TENSOR[1].ndim, TENSOR[1].size()"
   ],
   "metadata": {
    "collapsed": false,
    "ExecuteTime": {
     "end_time": "2023-12-17T14:45:46.248858520Z",
     "start_time": "2023-12-17T14:45:46.092735563Z"
    }
   },
   "id": "79d247b0160e86c2"
  },
  {
   "cell_type": "code",
   "execution_count": 19,
   "outputs": [
    {
     "data": {
      "text/plain": "(torch.Size([2, 3, 4]), torch.Size([2, 3, 4]))"
     },
     "execution_count": 19,
     "metadata": {},
     "output_type": "execute_result"
    }
   ],
   "source": [
    "TENSOR.size(), TENSOR.shape"
   ],
   "metadata": {
    "collapsed": false,
    "ExecuteTime": {
     "end_time": "2023-12-17T14:45:46.251549715Z",
     "start_time": "2023-12-17T14:45:46.136184126Z"
    }
   },
   "id": "bcf4c7ff01fbbbaa"
  },
  {
   "cell_type": "markdown",
   "source": [
    "### Random tensors"
   ],
   "metadata": {
    "collapsed": false
   },
   "id": "339a3e9c2465e65f"
  },
  {
   "cell_type": "code",
   "execution_count": 20,
   "outputs": [
    {
     "data": {
      "text/plain": "tensor([[[0.7377, 0.3170, 0.8980, 0.1505],\n         [0.3738, 0.1827, 0.7926, 0.3698]],\n\n        [[0.2376, 0.7220, 0.6504, 0.7543],\n         [0.0103, 0.3600, 0.6763, 0.3323]],\n\n        [[0.6618, 0.2263, 0.2286, 0.4342],\n         [0.7316, 0.3693, 0.7987, 0.1923]]])"
     },
     "execution_count": 20,
     "metadata": {},
     "output_type": "execute_result"
    }
   ],
   "source": [
    "random_tensor = torch.rand(3, 2, 4)\n",
    "random_tensor"
   ],
   "metadata": {
    "collapsed": false,
    "ExecuteTime": {
     "end_time": "2023-12-17T14:45:46.258925435Z",
     "start_time": "2023-12-17T14:45:46.136344325Z"
    }
   },
   "id": "884a5356cc9f0dd2"
  },
  {
   "cell_type": "code",
   "execution_count": 21,
   "outputs": [],
   "source": [
    "image_tensor = torch.rand(size=(3, 224, 224)) # colour channels, height, width, colour channels"
   ],
   "metadata": {
    "collapsed": false,
    "ExecuteTime": {
     "end_time": "2023-12-17T14:45:46.261298952Z",
     "start_time": "2023-12-17T14:45:46.136470445Z"
    }
   },
   "id": "5bd00a598d9dee45"
  },
  {
   "cell_type": "code",
   "execution_count": 22,
   "outputs": [
    {
     "data": {
      "text/plain": "(3, torch.Size([3, 224, 224]))"
     },
     "execution_count": 22,
     "metadata": {},
     "output_type": "execute_result"
    }
   ],
   "source": [
    "image_tensor.ndim, image_tensor.size()"
   ],
   "metadata": {
    "collapsed": false,
    "ExecuteTime": {
     "end_time": "2023-12-17T14:45:46.271806295Z",
     "start_time": "2023-12-17T14:45:46.136575034Z"
    }
   },
   "id": "4be37d96387b826e"
  },
  {
   "cell_type": "code",
   "execution_count": 23,
   "outputs": [
    {
     "data": {
      "text/plain": "tensor([[[0.0024, 0.4159, 0.2516,  ..., 0.6269, 0.1575, 0.4759],\n         [0.4459, 0.6739, 0.8544,  ..., 0.2257, 0.6672, 0.5189],\n         [0.4087, 0.5318, 0.6860,  ..., 0.9083, 0.0482, 0.4578],\n         ...,\n         [0.8913, 0.0717, 0.8473,  ..., 0.2304, 0.5575, 0.4818],\n         [0.4923, 0.5550, 0.7543,  ..., 0.6684, 0.8061, 0.2795],\n         [0.1391, 0.4036, 0.1905,  ..., 0.3406, 0.5398, 0.2632]],\n\n        [[0.5609, 0.3225, 0.5967,  ..., 0.8480, 0.6877, 0.9617],\n         [0.1380, 0.0763, 0.2292,  ..., 0.2278, 0.7945, 0.1854],\n         [0.1535, 0.4595, 0.2330,  ..., 0.6550, 0.3522, 0.8898],\n         ...,\n         [0.8989, 0.7590, 0.5460,  ..., 0.4192, 0.3279, 0.5126],\n         [0.9357, 0.4283, 0.1551,  ..., 0.2682, 0.9494, 0.7440],\n         [0.2353, 0.7315, 0.8395,  ..., 0.6117, 0.0784, 0.8475]],\n\n        [[0.2254, 0.2522, 0.2831,  ..., 0.2350, 0.8731, 0.8597],\n         [0.1157, 0.0076, 0.5651,  ..., 0.8402, 0.8316, 0.8502],\n         [0.2552, 0.1415, 0.2169,  ..., 0.3284, 0.3287, 0.0428],\n         ...,\n         [0.8159, 0.9257, 0.6846,  ..., 0.2949, 0.5286, 0.3582],\n         [0.6523, 0.7026, 0.2238,  ..., 0.9661, 0.7088, 0.8955],\n         [0.9166, 0.2717, 0.9595,  ..., 0.4989, 0.1669, 0.5362]]])"
     },
     "execution_count": 23,
     "metadata": {},
     "output_type": "execute_result"
    }
   ],
   "source": [
    "image_tensor"
   ],
   "metadata": {
    "collapsed": false,
    "ExecuteTime": {
     "end_time": "2023-12-17T14:45:46.288147175Z",
     "start_time": "2023-12-17T14:45:46.141349038Z"
    }
   },
   "id": "644a83442b9fe756"
  },
  {
   "cell_type": "code",
   "execution_count": 24,
   "outputs": [
    {
     "data": {
      "text/plain": "tensor([[[188.1145,  80.8459, 228.9774,  38.3800],\n         [ 95.3304,  46.5806, 202.1194,  94.3004]],\n\n        [[ 60.6005, 184.0982, 165.8510, 192.3586],\n         [  2.6326,  91.8038, 172.4465,  84.7385]],\n\n        [[168.7702,  57.7101,  58.3040, 110.7158],\n         [186.5600,  94.1741, 203.6734,  49.0485]]])"
     },
     "execution_count": 24,
     "metadata": {},
     "output_type": "execute_result"
    }
   ],
   "source": [
    "random_tensor * 255"
   ],
   "metadata": {
    "collapsed": false,
    "ExecuteTime": {
     "end_time": "2023-12-17T14:45:46.289887506Z",
     "start_time": "2023-12-17T14:45:46.184160763Z"
    }
   },
   "id": "60d9e49b1a926719"
  },
  {
   "cell_type": "markdown",
   "source": [
    "### Zeros and ones tensors"
   ],
   "metadata": {
    "collapsed": false
   },
   "id": "4d5afbdc3e3d74e6"
  },
  {
   "cell_type": "code",
   "execution_count": 25,
   "outputs": [
    {
     "data": {
      "text/plain": "tensor([[0., 0., 0., 0.],\n        [0., 0., 0., 0.],\n        [0., 0., 0., 0.]])"
     },
     "execution_count": 25,
     "metadata": {},
     "output_type": "execute_result"
    }
   ],
   "source": [
    "zeros = torch.zeros(3, 4)\n",
    "zeros"
   ],
   "metadata": {
    "collapsed": false,
    "ExecuteTime": {
     "end_time": "2023-12-17T14:45:46.291477378Z",
     "start_time": "2023-12-17T14:45:46.184296623Z"
    }
   },
   "id": "cabc92b07cf42a21"
  },
  {
   "cell_type": "code",
   "execution_count": 26,
   "outputs": [
    {
     "data": {
      "text/plain": "tensor([[0., 0., 0., 0.],\n        [0., 0., 0., 0.],\n        [0., 0., 0., 0.]])"
     },
     "execution_count": 26,
     "metadata": {},
     "output_type": "execute_result"
    }
   ],
   "source": [
    "torch.zeros(3, 4) * torch.rand(3, 4)"
   ],
   "metadata": {
    "collapsed": false,
    "ExecuteTime": {
     "end_time": "2023-12-17T14:45:46.297763683Z",
     "start_time": "2023-12-17T14:45:46.184391682Z"
    }
   },
   "id": "513a1cc164d5d0d6"
  },
  {
   "cell_type": "code",
   "execution_count": 27,
   "outputs": [
    {
     "data": {
      "text/plain": "tensor([[1., 1., 1., 1.],\n        [1., 1., 1., 1.],\n        [1., 1., 1., 1.]])"
     },
     "execution_count": 27,
     "metadata": {},
     "output_type": "execute_result"
    }
   ],
   "source": [
    "torch.ones(3, 4)"
   ],
   "metadata": {
    "collapsed": false,
    "ExecuteTime": {
     "end_time": "2023-12-17T14:45:46.382055393Z",
     "start_time": "2023-12-17T14:45:46.184478152Z"
    }
   },
   "id": "4a4d3187290c83af"
  },
  {
   "cell_type": "code",
   "execution_count": 28,
   "outputs": [
    {
     "data": {
      "text/plain": "tensor([0, 1, 2, 3, 4, 5, 6, 7, 8, 9])"
     },
     "execution_count": 28,
     "metadata": {},
     "output_type": "execute_result"
    }
   ],
   "source": [
    "torch.arange(10) "
   ],
   "metadata": {
    "collapsed": false,
    "ExecuteTime": {
     "end_time": "2023-12-17T14:45:46.383851432Z",
     "start_time": "2023-12-17T14:45:46.228135843Z"
    }
   },
   "id": "564c07f21ce1b91b"
  },
  {
   "cell_type": "code",
   "execution_count": 29,
   "outputs": [
    {
     "data": {
      "text/plain": "tensor([ 1,  2,  3,  4,  5,  6,  7,  8,  9, 10])"
     },
     "execution_count": 29,
     "metadata": {},
     "output_type": "execute_result"
    }
   ],
   "source": [
    "torch.arange(0, 10) + 1"
   ],
   "metadata": {
    "collapsed": false,
    "ExecuteTime": {
     "end_time": "2023-12-17T14:45:46.385533633Z",
     "start_time": "2023-12-17T14:45:46.228322862Z"
    }
   },
   "id": "4751f8df769e981f"
  },
  {
   "cell_type": "code",
   "execution_count": 30,
   "outputs": [],
   "source": [
    "ten_zeros = torch.zeros_like(torch.arange(0, 10))"
   ],
   "metadata": {
    "collapsed": false,
    "ExecuteTime": {
     "end_time": "2023-12-17T14:45:46.398334493Z",
     "start_time": "2023-12-17T14:45:46.228437972Z"
    }
   },
   "id": "2b22a052cfdd5990"
  },
  {
   "cell_type": "code",
   "execution_count": 31,
   "outputs": [
    {
     "data": {
      "text/plain": "tensor([0, 0, 0, 0, 0, 0, 0, 0, 0, 0])"
     },
     "execution_count": 31,
     "metadata": {},
     "output_type": "execute_result"
    }
   ],
   "source": [
    "ten_zeros"
   ],
   "metadata": {
    "collapsed": false,
    "ExecuteTime": {
     "end_time": "2023-12-17T14:45:46.400250442Z",
     "start_time": "2023-12-17T14:45:46.228511791Z"
    }
   },
   "id": "9be946b151809228"
  },
  {
   "cell_type": "code",
   "execution_count": 32,
   "outputs": [
    {
     "data": {
      "text/plain": "tensor([0, 0, 0, 0, 0, 0, 0, 0, 0, 0], dtype=torch.int32)"
     },
     "execution_count": 32,
     "metadata": {},
     "output_type": "execute_result"
    }
   ],
   "source": [
    "torch.zeros(torch.arange(10).size(), dtype=torch.int32)"
   ],
   "metadata": {
    "collapsed": false,
    "ExecuteTime": {
     "end_time": "2023-12-17T14:45:46.439684647Z",
     "start_time": "2023-12-17T14:45:46.231180846Z"
    }
   },
   "id": "2b0b9c7e3c6bc465"
  },
  {
   "cell_type": "markdown",
   "source": [
    "### Tensor datatypes"
   ],
   "metadata": {
    "collapsed": false
   },
   "id": "bf70346e199233c9"
  },
  {
   "cell_type": "code",
   "execution_count": 33,
   "outputs": [
    {
     "data": {
      "text/plain": "tensor([3, 6, 9])"
     },
     "execution_count": 33,
     "metadata": {},
     "output_type": "execute_result"
    }
   ],
   "source": [
    "int_tensor = torch.tensor([3, 6, 9], dtype=None)\n",
    "int_tensor"
   ],
   "metadata": {
    "collapsed": false,
    "ExecuteTime": {
     "end_time": "2023-12-17T14:45:46.441475767Z",
     "start_time": "2023-12-17T14:45:46.272217912Z"
    }
   },
   "id": "7eeae5332947be31"
  },
  {
   "cell_type": "code",
   "execution_count": 34,
   "outputs": [
    {
     "data": {
      "text/plain": "torch.int64"
     },
     "execution_count": 34,
     "metadata": {},
     "output_type": "execute_result"
    }
   ],
   "source": [
    "int_tensor.dtype"
   ],
   "metadata": {
    "collapsed": false,
    "ExecuteTime": {
     "end_time": "2023-12-17T14:45:46.443089538Z",
     "start_time": "2023-12-17T14:45:46.272364422Z"
    }
   },
   "id": "fe337e924ddc63cd"
  },
  {
   "cell_type": "markdown",
   "source": [
    "### Tensor datatypes is one of the 3 big errors you'll run into with PyTorch.\n",
    "1. Tensors not right datatype\n",
    "2. Tensors not right shape\n",
    "3. Tensors not on the right device"
   ],
   "metadata": {
    "collapsed": false
   },
   "id": "32c9e97f18e31ff2"
  },
  {
   "cell_type": "code",
   "execution_count": 35,
   "outputs": [],
   "source": [
    " gpu_tensor = torch.rand(size=(3, 2), device='cuda')"
   ],
   "metadata": {
    "collapsed": false,
    "ExecuteTime": {
     "end_time": "2023-12-17T14:45:46.549554157Z",
     "start_time": "2023-12-17T14:45:46.272505081Z"
    }
   },
   "id": "10ca8df814d3915"
  },
  {
   "cell_type": "code",
   "execution_count": 36,
   "outputs": [],
   "source": [
    "cpu_tensor = torch.rand(size=(3, 2), device='cpu')"
   ],
   "metadata": {
    "collapsed": false,
    "ExecuteTime": {
     "end_time": "2023-12-17T14:45:46.571249649Z",
     "start_time": "2023-12-17T14:45:46.429702252Z"
    }
   },
   "id": "c4539dccd63fb106"
  },
  {
   "cell_type": "code",
   "execution_count": 37,
   "outputs": [],
   "source": [
    "# gpu_tensor * cpu_tensor \n",
    "# \n",
    "# RuntimeError: Expected all tensors to be on the same device, but found at least two devices, cuda:0 and cpu!"
   ],
   "metadata": {
    "collapsed": false,
    "ExecuteTime": {
     "end_time": "2023-12-17T14:45:46.586612934Z",
     "start_time": "2023-12-17T14:45:46.439806747Z"
    }
   },
   "id": "9b63c45d7c9624dc"
  },
  {
   "cell_type": "code",
   "execution_count": 38,
   "outputs": [],
   "source": [
    "random_tensor = torch.rand(size=(3, 2))"
   ],
   "metadata": {
    "collapsed": false,
    "ExecuteTime": {
     "end_time": "2023-12-17T14:45:46.591892746Z",
     "start_time": "2023-12-17T14:45:46.480073337Z"
    }
   },
   "id": "749ed102253c93ea"
  },
  {
   "cell_type": "code",
   "execution_count": 39,
   "outputs": [
    {
     "data": {
      "text/plain": "device(type='cpu')"
     },
     "execution_count": 39,
     "metadata": {},
     "output_type": "execute_result"
    }
   ],
   "source": [
    "random_tensor.device"
   ],
   "metadata": {
    "collapsed": false,
    "ExecuteTime": {
     "end_time": "2023-12-17T14:45:46.593833925Z",
     "start_time": "2023-12-17T14:45:46.480213787Z"
    }
   },
   "id": "377a3ecf481fd171"
  },
  {
   "cell_type": "code",
   "execution_count": 40,
   "outputs": [
    {
     "data": {
      "text/plain": "tensor([[0.0987, 0.0067],\n        [0.2118, 0.0068],\n        [0.2164, 0.1384]])"
     },
     "execution_count": 40,
     "metadata": {},
     "output_type": "execute_result"
    }
   ],
   "source": [
    "random_tensor * cpu_tensor"
   ],
   "metadata": {
    "collapsed": false,
    "ExecuteTime": {
     "end_time": "2023-12-17T14:45:46.596637640Z",
     "start_time": "2023-12-17T14:45:46.480304566Z"
    }
   },
   "id": "7dc731b2b71d66d2"
  },
  {
   "cell_type": "code",
   "execution_count": 41,
   "outputs": [
    {
     "data": {
      "text/plain": "tensor([[0.4727, 0.0086],\n        [0.4683, 0.1933],\n        [0.3355, 0.8679]])"
     },
     "execution_count": 41,
     "metadata": {},
     "output_type": "execute_result"
    }
   ],
   "source": [
    "cpu_tensor"
   ],
   "metadata": {
    "collapsed": false,
    "ExecuteTime": {
     "end_time": "2023-12-17T14:45:46.598566159Z",
     "start_time": "2023-12-17T14:45:46.524254306Z"
    }
   },
   "id": "ceef5e9143f07715"
  },
  {
   "cell_type": "code",
   "execution_count": 42,
   "outputs": [
    {
     "data": {
      "text/plain": "tensor([[47,  0],\n        [46, 19],\n        [33, 86]], dtype=torch.int32)"
     },
     "execution_count": 42,
     "metadata": {},
     "output_type": "execute_result"
    }
   ],
   "source": [
    "(cpu_tensor * 100).type(torch.int32)"
   ],
   "metadata": {
    "collapsed": false,
    "ExecuteTime": {
     "end_time": "2023-12-17T14:45:46.601954051Z",
     "start_time": "2023-12-17T14:45:46.524445295Z"
    }
   },
   "id": "62bf895dbc61c6b3"
  },
  {
   "cell_type": "code",
   "execution_count": 43,
   "outputs": [
    {
     "data": {
      "text/plain": "tensor([[76, 81],\n        [83, 37],\n        [74, 46]], dtype=torch.int32)"
     },
     "execution_count": 43,
     "metadata": {},
     "output_type": "execute_result"
    }
   ],
   "source": [
    "rand_int = (torch.rand(size=(3, 2)) * 100).type(torch.int32)\n",
    "rand_int"
   ],
   "metadata": {
    "collapsed": false,
    "ExecuteTime": {
     "end_time": "2023-12-17T14:45:46.602203569Z",
     "start_time": "2023-12-17T14:45:46.524603044Z"
    }
   },
   "id": "afa22fe7d773584e"
  },
  {
   "cell_type": "code",
   "execution_count": 44,
   "outputs": [
    {
     "data": {
      "text/plain": "tensor([[0.7744, 0.8779],\n        [0.8864, 0.6302],\n        [0.4989, 0.2942]])"
     },
     "execution_count": 44,
     "metadata": {},
     "output_type": "execute_result"
    }
   ],
   "source": [
    "rand_float = torch.rand(size=(3, 2))\n",
    "rand_float"
   ],
   "metadata": {
    "collapsed": false,
    "ExecuteTime": {
     "end_time": "2023-12-17T14:45:46.655118310Z",
     "start_time": "2023-12-17T14:45:46.524825753Z"
    }
   },
   "id": "c3247d78a3d5a8a"
  },
  {
   "cell_type": "code",
   "execution_count": 45,
   "outputs": [
    {
     "data": {
      "text/plain": "torch.float32"
     },
     "execution_count": 45,
     "metadata": {},
     "output_type": "execute_result"
    }
   ],
   "source": [
    "rand_float.dtype"
   ],
   "metadata": {
    "collapsed": false,
    "ExecuteTime": {
     "end_time": "2023-12-17T14:45:46.656901480Z",
     "start_time": "2023-12-17T14:45:46.568320115Z"
    }
   },
   "id": "b509c2903ef81647"
  },
  {
   "cell_type": "code",
   "execution_count": 46,
   "outputs": [
    {
     "data": {
      "text/plain": "tensor([[58.8530, 71.1063],\n        [73.5685, 23.3172],\n        [36.9176, 13.5344]])"
     },
     "execution_count": 46,
     "metadata": {},
     "output_type": "execute_result"
    }
   ],
   "source": [
    "rand_float * rand_int"
   ],
   "metadata": {
    "collapsed": false,
    "ExecuteTime": {
     "end_time": "2023-12-17T14:45:46.670275957Z",
     "start_time": "2023-12-17T14:45:46.568475894Z"
    }
   },
   "id": "b0d37decf92df96"
  },
  {
   "cell_type": "code",
   "execution_count": 47,
   "outputs": [
    {
     "data": {
      "text/plain": "tensor([[58.8530, 71.1063],\n        [73.5685, 23.3172],\n        [36.9176, 13.5344]])"
     },
     "execution_count": 47,
     "metadata": {},
     "output_type": "execute_result"
    }
   ],
   "source": [
    "rand_int * rand_float"
   ],
   "metadata": {
    "collapsed": false,
    "ExecuteTime": {
     "end_time": "2023-12-17T14:45:46.672053968Z",
     "start_time": "2023-12-17T14:45:46.568576064Z"
    }
   },
   "id": "c91028c26fac3981"
  },
  {
   "cell_type": "code",
   "execution_count": 48,
   "outputs": [
    {
     "data": {
      "text/plain": "tensor(83, dtype=torch.int32)"
     },
     "execution_count": 48,
     "metadata": {},
     "output_type": "execute_result"
    }
   ],
   "source": [
    "rand_int.max()"
   ],
   "metadata": {
    "collapsed": false,
    "ExecuteTime": {
     "end_time": "2023-12-17T14:45:46.673879158Z",
     "start_time": "2023-12-17T14:45:46.568656893Z"
    }
   },
   "id": "24a859bdc27a4dbb"
  },
  {
   "cell_type": "code",
   "execution_count": 49,
   "outputs": [
    {
     "data": {
      "text/plain": "tensor([[76, 81],\n        [83, 37],\n        [74, 46]], device='cuda:0', dtype=torch.int32)"
     },
     "execution_count": 49,
     "metadata": {},
     "output_type": "execute_result"
    }
   ],
   "source": [
    "rand_int.to(\"cuda:0\")"
   ],
   "metadata": {
    "collapsed": false,
    "ExecuteTime": {
     "end_time": "2023-12-17T14:45:46.711227583Z",
     "start_time": "2023-12-17T14:45:46.568736833Z"
    }
   },
   "id": "5099b198c80d6781"
  },
  {
   "cell_type": "code",
   "execution_count": 50,
   "outputs": [
    {
     "data": {
      "text/plain": "tensor([[0.9541, 0.4807],\n        [0.1265, 0.1007],\n        [0.8331, 0.5458]], device='cuda:0')"
     },
     "execution_count": 50,
     "metadata": {},
     "output_type": "execute_result"
    }
   ],
   "source": [
    "gpu_tensor"
   ],
   "metadata": {
    "collapsed": false,
    "ExecuteTime": {
     "end_time": "2023-12-17T14:45:46.713410011Z",
     "start_time": "2023-12-17T14:45:46.616115784Z"
    }
   },
   "id": "997e7a0127bd7d5f"
  },
  {
   "cell_type": "markdown",
   "source": [],
   "metadata": {
    "collapsed": false
   },
   "id": "93702978be552898"
  },
  {
   "cell_type": "markdown",
   "source": [
    "### Operations"
   ],
   "metadata": {
    "collapsed": false
   },
   "id": "8f2d58b30ba2d87a"
  },
  {
   "cell_type": "code",
   "execution_count": 51,
   "outputs": [
    {
     "data": {
      "text/plain": "tensor([[76, 81],\n        [83, 37],\n        [74, 46]], dtype=torch.int32)"
     },
     "execution_count": 51,
     "metadata": {},
     "output_type": "execute_result"
    }
   ],
   "source": [
    "rand_int"
   ],
   "metadata": {
    "collapsed": false,
    "ExecuteTime": {
     "end_time": "2023-12-17T14:45:46.807842246Z",
     "start_time": "2023-12-17T14:45:46.632634283Z"
    }
   },
   "id": "6ec2cbd12751dd60"
  },
  {
   "cell_type": "code",
   "execution_count": 52,
   "outputs": [
    {
     "data": {
      "text/plain": "tensor([[77, 82],\n        [84, 38],\n        [75, 47]], dtype=torch.int32)"
     },
     "execution_count": 52,
     "metadata": {},
     "output_type": "execute_result"
    }
   ],
   "source": [
    "rand_int + 1"
   ],
   "metadata": {
    "collapsed": false,
    "ExecuteTime": {
     "end_time": "2023-12-17T14:45:46.812898898Z",
     "start_time": "2023-12-17T14:45:46.680136174Z"
    }
   },
   "id": "718680c65683c3c6"
  },
  {
   "cell_type": "code",
   "execution_count": 53,
   "outputs": [
    {
     "data": {
      "text/plain": "tensor([[152, 162],\n        [166,  74],\n        [148,  92]], dtype=torch.int32)"
     },
     "execution_count": 53,
     "metadata": {},
     "output_type": "execute_result"
    }
   ],
   "source": [
    "rand_int + rand_int"
   ],
   "metadata": {
    "collapsed": false,
    "ExecuteTime": {
     "end_time": "2023-12-17T14:45:46.814706598Z",
     "start_time": "2023-12-17T14:45:46.680253004Z"
    }
   },
   "id": "b7b6438a484b00f"
  },
  {
   "cell_type": "code",
   "execution_count": 54,
   "outputs": [
    {
     "data": {
      "text/plain": "tensor([[152, 162],\n        [166,  74],\n        [148,  92]], dtype=torch.int32)"
     },
     "execution_count": 54,
     "metadata": {},
     "output_type": "execute_result"
    }
   ],
   "source": [
    "rand_int * 2"
   ],
   "metadata": {
    "collapsed": false,
    "ExecuteTime": {
     "end_time": "2023-12-17T14:45:46.816577648Z",
     "start_time": "2023-12-17T14:45:46.680347853Z"
    }
   },
   "id": "a73757f6f4fd3f19"
  },
  {
   "cell_type": "code",
   "execution_count": 55,
   "outputs": [
    {
     "data": {
      "text/plain": "tensor([[7.6000, 8.1000],\n        [8.3000, 3.7000],\n        [7.4000, 4.6000]])"
     },
     "execution_count": 55,
     "metadata": {},
     "output_type": "execute_result"
    }
   ],
   "source": [
    "rand_int / 10"
   ],
   "metadata": {
    "collapsed": false,
    "ExecuteTime": {
     "end_time": "2023-12-17T14:45:46.818204179Z",
     "start_time": "2023-12-17T14:45:46.680421603Z"
    }
   },
   "id": "3de20fb9c3d65d8b"
  },
  {
   "cell_type": "code",
   "execution_count": 56,
   "outputs": [
    {
     "data": {
      "text/plain": "torch.float32"
     },
     "execution_count": 56,
     "metadata": {},
     "output_type": "execute_result"
    }
   ],
   "source": [
    "(rand_int / 10).dtype"
   ],
   "metadata": {
    "collapsed": false,
    "ExecuteTime": {
     "end_time": "2023-12-17T14:45:46.822704634Z",
     "start_time": "2023-12-17T14:45:46.680528732Z"
    }
   },
   "id": "c2bec5559b08c91f"
  },
  {
   "cell_type": "markdown",
   "source": [
    "### Matrix multiplication"
   ],
   "metadata": {
    "collapsed": false
   },
   "id": "5215d9fe09570ee2"
  },
  {
   "cell_type": "code",
   "execution_count": 57,
   "outputs": [
    {
     "data": {
      "text/plain": "tensor([[56, 53,  1, 84],\n        [89, 22, 85,  2],\n        [50, 34, 41, 83]], dtype=torch.int32)"
     },
     "execution_count": 57,
     "metadata": {},
     "output_type": "execute_result"
    }
   ],
   "source": [
    "matrix_1 = (torch.rand(3, 4) * 100).type(torch.int32)\n",
    "matrix_1"
   ],
   "metadata": {
    "collapsed": false,
    "ExecuteTime": {
     "end_time": "2023-12-17T14:45:46.834254581Z",
     "start_time": "2023-12-17T14:45:46.686422839Z"
    }
   },
   "id": "327f1965b7ef4506"
  },
  {
   "cell_type": "code",
   "execution_count": 58,
   "outputs": [
    {
     "data": {
      "text/plain": "tensor([[44,  4, 29, 63],\n        [99, 84, 20, 18],\n        [48,  2, 85, 81]], dtype=torch.int32)"
     },
     "execution_count": 58,
     "metadata": {},
     "output_type": "execute_result"
    }
   ],
   "source": [
    "matrix_2 = (torch.rand(3, 4) * 100).type(torch.int32)\n",
    "matrix_2"
   ],
   "metadata": {
    "collapsed": false,
    "ExecuteTime": {
     "end_time": "2023-12-17T14:45:46.835906791Z",
     "start_time": "2023-12-17T14:45:46.732070129Z"
    }
   },
   "id": "ce821b82133248bc"
  },
  {
   "cell_type": "code",
   "execution_count": 59,
   "outputs": [
    {
     "data": {
      "text/plain": "tensor([[2464,  212,   29, 5292],\n        [8811, 1848, 1700,   36],\n        [2400,   68, 3485, 6723]], dtype=torch.int32)"
     },
     "execution_count": 59,
     "metadata": {},
     "output_type": "execute_result"
    }
   ],
   "source": [
    "matrix_1 * matrix_2"
   ],
   "metadata": {
    "collapsed": false,
    "ExecuteTime": {
     "end_time": "2023-12-17T14:45:46.837727972Z",
     "start_time": "2023-12-17T14:45:46.732194679Z"
    }
   },
   "id": "c5e5845539d137c5"
  },
  {
   "cell_type": "code",
   "execution_count": 60,
   "outputs": [
    {
     "ename": "RuntimeError",
     "evalue": "mat1 and mat2 shapes cannot be multiplied (3x4 and 3x4)",
     "output_type": "error",
     "traceback": [
      "\u001B[0;31m---------------------------------------------------------------------------\u001B[0m",
      "\u001B[0;31mRuntimeError\u001B[0m                              Traceback (most recent call last)",
      "Cell \u001B[0;32mIn[60], line 1\u001B[0m\n\u001B[0;32m----> 1\u001B[0m \u001B[43mmatrix_1\u001B[49m\u001B[43m \u001B[49m\u001B[38;5;241;43m@\u001B[39;49m\u001B[43m \u001B[49m\u001B[43mmatrix_2\u001B[49m\n",
      "\u001B[0;31mRuntimeError\u001B[0m: mat1 and mat2 shapes cannot be multiplied (3x4 and 3x4)"
     ]
    }
   ],
   "source": [
    "matrix_1 @ matrix_2"
   ],
   "metadata": {
    "collapsed": false,
    "ExecuteTime": {
     "end_time": "2023-12-17T14:45:46.961379197Z",
     "start_time": "2023-12-17T14:45:46.732267638Z"
    }
   },
   "id": "11683f7b1c84c4bc"
  },
  {
   "cell_type": "code",
   "execution_count": null,
   "outputs": [],
   "source": [
    "matrix_3 = (torch.rand(4, 3) * 100).type(torch.int32)\n",
    "matrix_3"
   ],
   "metadata": {
    "collapsed": false,
    "ExecuteTime": {
     "start_time": "2023-12-17T14:45:46.860547528Z"
    }
   },
   "id": "d2b8139f7a650af1"
  },
  {
   "cell_type": "code",
   "execution_count": null,
   "outputs": [],
   "source": [
    "matrix_1 @ matrix_3"
   ],
   "metadata": {
    "collapsed": false,
    "ExecuteTime": {
     "start_time": "2023-12-17T14:45:46.904266509Z"
    }
   },
   "id": "1acbd00359ffb4a2"
  },
  {
   "cell_type": "code",
   "execution_count": null,
   "outputs": [],
   "source": [
    "matrix_1.matmul(matrix_3)"
   ],
   "metadata": {
    "collapsed": false,
    "ExecuteTime": {
     "start_time": "2023-12-17T14:45:46.904410509Z"
    }
   },
   "id": "7d929f4e0ae19e9f"
  },
  {
   "cell_type": "code",
   "execution_count": null,
   "outputs": [],
   "source": [
    "torch.tensor([1, 2, 3]) @ torch.tensor([1, 2, 3])"
   ],
   "metadata": {
    "collapsed": false,
    "ExecuteTime": {
     "start_time": "2023-12-17T14:45:46.904531378Z"
    }
   },
   "id": "1f637ee5ae0bbcf7"
  },
  {
   "cell_type": "code",
   "execution_count": null,
   "outputs": [],
   "source": [
    "%%time\n",
    "ejemplo = torch.tensor([1, 2, 3])\n",
    "ejemplo_2 = torch.tensor([1, 2, 3])\n",
    "\n",
    "suma = sum(i * j for i, j in zip(ejemplo, ejemplo_2))\n",
    "print(suma)"
   ],
   "metadata": {
    "collapsed": false,
    "ExecuteTime": {
     "start_time": "2023-12-17T14:45:46.904629937Z"
    }
   },
   "id": "b2980d80733fbaae"
  },
  {
   "cell_type": "code",
   "execution_count": null,
   "outputs": [],
   "source": [
    "%%time\n",
    "ejemplo = torch.tensor([1, 2, 3])\n",
    "ejemplo_2 = torch.tensor([1, 2, 3])\n",
    "\n",
    "value = 0\n",
    "for i in range(len(ejemplo)):\n",
    "    value += ejemplo[i] * ejemplo_2[i]\n",
    "print(value)"
   ],
   "metadata": {
    "collapsed": false,
    "ExecuteTime": {
     "start_time": "2023-12-17T14:45:46.904705157Z"
    }
   },
   "id": "b3831d049637b318"
  },
  {
   "cell_type": "code",
   "execution_count": null,
   "outputs": [],
   "source": [
    "%%time \n",
    "ejemplo = torch.tensor([1, 2, 3])\n",
    "ejemplo_2 = torch.tensor([1, 2, 3])\n",
    "\n",
    "value = ejemplo @ ejemplo_2\n",
    "print(value)"
   ],
   "metadata": {
    "collapsed": false,
    "ExecuteTime": {
     "start_time": "2023-12-17T14:45:46.904765897Z"
    }
   },
   "id": "e44468a813658f2a"
  },
  {
   "cell_type": "code",
   "execution_count": null,
   "outputs": [],
   "source": [
    "matrix_2"
   ],
   "metadata": {
    "collapsed": false,
    "ExecuteTime": {
     "start_time": "2023-12-17T14:45:46.904906866Z"
    }
   },
   "id": "687a4e2ec433698"
  },
  {
   "cell_type": "code",
   "execution_count": null,
   "outputs": [],
   "source": [
    "matrix_2.shape"
   ],
   "metadata": {
    "collapsed": false,
    "ExecuteTime": {
     "start_time": "2023-12-17T14:45:46.904981565Z"
    }
   },
   "id": "6026fa4410ceedef"
  },
  {
   "cell_type": "code",
   "execution_count": null,
   "outputs": [],
   "source": [
    "matrix_2.T"
   ],
   "metadata": {
    "collapsed": false,
    "ExecuteTime": {
     "start_time": "2023-12-17T14:45:46.905044785Z"
    }
   },
   "id": "d1a3460ae857eb52"
  },
  {
   "cell_type": "code",
   "execution_count": null,
   "outputs": [],
   "source": [
    "matrix_2 @ matrix_2.T"
   ],
   "metadata": {
    "collapsed": false,
    "ExecuteTime": {
     "start_time": "2023-12-17T14:45:46.905104765Z"
    }
   },
   "id": "e1e8238dbf0a7ba"
  },
  {
   "cell_type": "markdown",
   "source": [
    "### Tensor agregation (min, max, sum, etc)"
   ],
   "metadata": {
    "collapsed": false
   },
   "id": "949f0541503e406"
  },
  {
   "cell_type": "code",
   "execution_count": null,
   "outputs": [],
   "source": [
    "x = torch.arange(0, 100, 10).type(torch.float32)\n",
    "x"
   ],
   "metadata": {
    "collapsed": false,
    "ExecuteTime": {
     "start_time": "2023-12-17T14:45:46.905163514Z"
    }
   },
   "id": "37993fa9e2d7cc40"
  },
  {
   "cell_type": "code",
   "execution_count": 61,
   "outputs": [
    {
     "ename": "NameError",
     "evalue": "name 'x' is not defined",
     "output_type": "error",
     "traceback": [
      "\u001B[0;31m---------------------------------------------------------------------------\u001B[0m",
      "\u001B[0;31mNameError\u001B[0m                                 Traceback (most recent call last)",
      "Cell \u001B[0;32mIn[61], line 1\u001B[0m\n\u001B[0;32m----> 1\u001B[0m \u001B[43mx\u001B[49m\u001B[38;5;241m.\u001B[39mmin(), x\u001B[38;5;241m.\u001B[39mmax(), x\u001B[38;5;241m.\u001B[39mmean(), x\u001B[38;5;241m.\u001B[39mstd()\n",
      "\u001B[0;31mNameError\u001B[0m: name 'x' is not defined"
     ]
    }
   ],
   "source": [
    "x.min(), x.max(), x.mean(), x.std()"
   ],
   "metadata": {
    "collapsed": false,
    "ExecuteTime": {
     "start_time": "2023-12-17T14:45:46.954257765Z"
    }
   },
   "id": "6960623386d3e167"
  },
  {
   "cell_type": "markdown",
   "source": [
    "### mean and std require the type float"
   ],
   "metadata": {
    "collapsed": false
   },
   "id": "8b26510de2ea8a19"
  },
  {
   "cell_type": "code",
   "execution_count": 62,
   "outputs": [
    {
     "ename": "NameError",
     "evalue": "name 'x' is not defined",
     "output_type": "error",
     "traceback": [
      "\u001B[0;31m---------------------------------------------------------------------------\u001B[0m",
      "\u001B[0;31mNameError\u001B[0m                                 Traceback (most recent call last)",
      "Cell \u001B[0;32mIn[62], line 1\u001B[0m\n\u001B[0;32m----> 1\u001B[0m \u001B[43mx\u001B[49m\u001B[38;5;241m.\u001B[39margmin(), x\u001B[38;5;241m.\u001B[39margmax()\n",
      "\u001B[0;31mNameError\u001B[0m: name 'x' is not defined"
     ]
    }
   ],
   "source": [
    "x.argmin(), x.argmax()"
   ],
   "metadata": {
    "collapsed": false,
    "ExecuteTime": {
     "end_time": "2023-12-17T14:45:47.136277270Z",
     "start_time": "2023-12-17T14:45:47.050537770Z"
    }
   },
   "id": "3805fdfa07e7637a"
  },
  {
   "cell_type": "code",
   "execution_count": 63,
   "outputs": [
    {
     "data": {
      "text/plain": "tensor([[44,  4, 29, 63],\n        [99, 84, 20, 18],\n        [48,  2, 85, 81]], dtype=torch.int32)"
     },
     "execution_count": 63,
     "metadata": {},
     "output_type": "execute_result"
    }
   ],
   "source": [
    "matrix_2"
   ],
   "metadata": {
    "collapsed": false,
    "ExecuteTime": {
     "end_time": "2023-12-17T14:45:47.203703493Z",
     "start_time": "2023-12-17T14:45:47.135988822Z"
    }
   },
   "id": "d81290724c91688"
  },
  {
   "cell_type": "code",
   "execution_count": 64,
   "outputs": [
    {
     "data": {
      "text/plain": "tensor([[[44,  4, 29, 63],\n         [99, 84, 20, 18],\n         [48,  2, 85, 81]]], dtype=torch.int32)"
     },
     "execution_count": 64,
     "metadata": {},
     "output_type": "execute_result"
    }
   ],
   "source": [
    "matrix_2.reshape(1, 3, 4)"
   ],
   "metadata": {
    "collapsed": false,
    "ExecuteTime": {
     "end_time": "2023-12-17T14:45:47.239774866Z",
     "start_time": "2023-12-17T14:45:47.203849583Z"
    }
   },
   "id": "914ce690521a573d"
  },
  {
   "cell_type": "code",
   "execution_count": 65,
   "outputs": [
    {
     "data": {
      "text/plain": "tensor([[[44,  4, 29],\n         [63, 99, 84]],\n\n        [[20, 18, 48],\n         [ 2, 85, 81]]], dtype=torch.int32)"
     },
     "execution_count": 65,
     "metadata": {},
     "output_type": "execute_result"
    }
   ],
   "source": [
    "matrix_2.reshape(2, 2, 3)"
   ],
   "metadata": {
    "collapsed": false,
    "ExecuteTime": {
     "end_time": "2023-12-17T14:45:47.249663602Z",
     "start_time": "2023-12-17T14:45:47.230843934Z"
    }
   },
   "id": "8bb55d5b31e34a12"
  },
  {
   "cell_type": "code",
   "execution_count": 66,
   "outputs": [
    {
     "data": {
      "text/plain": "tensor([[44],\n        [ 4],\n        [29],\n        [63],\n        [99],\n        [84],\n        [20],\n        [18],\n        [48],\n        [ 2],\n        [85],\n        [81]], dtype=torch.int32)"
     },
     "execution_count": 66,
     "metadata": {},
     "output_type": "execute_result"
    }
   ],
   "source": [
    "matrix_2.reshape(12, 1)"
   ],
   "metadata": {
    "collapsed": false,
    "ExecuteTime": {
     "end_time": "2023-12-17T14:45:47.257718088Z",
     "start_time": "2023-12-17T14:45:47.244032492Z"
    }
   },
   "id": "9d7b181054590bca"
  },
  {
   "cell_type": "code",
   "execution_count": 67,
   "outputs": [
    {
     "data": {
      "text/plain": "tensor([[44,  4, 29],\n        [63, 99, 84],\n        [20, 18, 48],\n        [ 2, 85, 81]], dtype=torch.int32)"
     },
     "execution_count": 67,
     "metadata": {},
     "output_type": "execute_result"
    }
   ],
   "source": [
    "matrix_2.reshape(shape=(4, 3))"
   ],
   "metadata": {
    "collapsed": false,
    "ExecuteTime": {
     "end_time": "2023-12-17T14:45:47.293226954Z",
     "start_time": "2023-12-17T14:45:47.256330465Z"
    }
   },
   "id": "5c551ab767d297d9"
  },
  {
   "cell_type": "code",
   "execution_count": 68,
   "outputs": [
    {
     "data": {
      "text/plain": "tensor([[44,  4, 29, 63],\n        [99, 84, 20, 18],\n        [48,  2, 85, 81]], dtype=torch.int32)"
     },
     "execution_count": 68,
     "metadata": {},
     "output_type": "execute_result"
    }
   ],
   "source": [
    "matrix_2"
   ],
   "metadata": {
    "collapsed": false,
    "ExecuteTime": {
     "end_time": "2023-12-17T14:45:47.313972100Z",
     "start_time": "2023-12-17T14:45:47.291993671Z"
    }
   },
   "id": "99f4ad1b443462a8"
  },
  {
   "cell_type": "code",
   "execution_count": 69,
   "outputs": [],
   "source": [
    "test_matrix = matrix_2.view(4, 3)"
   ],
   "metadata": {
    "collapsed": false,
    "ExecuteTime": {
     "end_time": "2023-12-17T14:45:47.341729869Z",
     "start_time": "2023-12-17T14:45:47.312723127Z"
    }
   },
   "id": "724288552066d4e7"
  },
  {
   "cell_type": "code",
   "execution_count": 70,
   "outputs": [
    {
     "data": {
      "text/plain": "tensor([[44,  4, 29],\n        [63, 99, 84],\n        [20, 18, 48],\n        [ 2, 85, 81]], dtype=torch.int32)"
     },
     "execution_count": 70,
     "metadata": {},
     "output_type": "execute_result"
    }
   ],
   "source": [
    "test_matrix"
   ],
   "metadata": {
    "collapsed": false,
    "ExecuteTime": {
     "end_time": "2023-12-17T14:45:47.361849509Z",
     "start_time": "2023-12-17T14:45:47.340673675Z"
    }
   },
   "id": "31fdba6fdc980c6e"
  },
  {
   "cell_type": "code",
   "execution_count": 71,
   "outputs": [
    {
     "data": {
      "text/plain": "tensor([[44,  4, 29, 63],\n        [99, 84, 20, 18],\n        [48,  2, 85, 81]], dtype=torch.int32)"
     },
     "execution_count": 71,
     "metadata": {},
     "output_type": "execute_result"
    }
   ],
   "source": [
    "matrix_2"
   ],
   "metadata": {
    "collapsed": false,
    "ExecuteTime": {
     "end_time": "2023-12-17T14:45:47.368053224Z",
     "start_time": "2023-12-17T14:45:47.355001276Z"
    }
   },
   "id": "2b6d9431968f5e4"
  },
  {
   "cell_type": "code",
   "execution_count": 72,
   "outputs": [
    {
     "data": {
      "text/plain": "tensor([[44,  4, 29],\n        [63, 99,  0],\n        [20, 18, 48],\n        [ 2, 85, 81]], dtype=torch.int32)"
     },
     "execution_count": 72,
     "metadata": {},
     "output_type": "execute_result"
    }
   ],
   "source": [
    "test_matrix[1, 2] = 0\n",
    "test_matrix"
   ],
   "metadata": {
    "collapsed": false,
    "ExecuteTime": {
     "end_time": "2023-12-17T14:45:47.400648086Z",
     "start_time": "2023-12-17T14:45:47.366886581Z"
    }
   },
   "id": "fefc094d7b39885e"
  },
  {
   "cell_type": "code",
   "execution_count": 73,
   "outputs": [
    {
     "data": {
      "text/plain": "tensor([[44,  4, 29, 63],\n        [99,  0, 20, 18],\n        [48,  2, 85, 81]], dtype=torch.int32)"
     },
     "execution_count": 73,
     "metadata": {},
     "output_type": "execute_result"
    }
   ],
   "source": [
    "matrix_2"
   ],
   "metadata": {
    "collapsed": false,
    "ExecuteTime": {
     "end_time": "2023-12-17T14:45:47.413846505Z",
     "start_time": "2023-12-17T14:45:47.399423113Z"
    }
   },
   "id": "39f82a25a7bf102a"
  },
  {
   "cell_type": "markdown",
   "source": [
    "### .view() points at the same memory space as the original "
   ],
   "metadata": {
    "collapsed": false
   },
   "id": "4211dc7c87aa1c9a"
  },
  {
   "cell_type": "code",
   "execution_count": 74,
   "outputs": [
    {
     "data": {
      "text/plain": "tensor([[999,   4,  29],\n        [ 63,  99,   0],\n        [ 20,  18,  48],\n        [  2,  85,  81]], dtype=torch.int32)"
     },
     "execution_count": 74,
     "metadata": {},
     "output_type": "execute_result"
    }
   ],
   "source": [
    "matrix_2[0, 0] = 999\n",
    "test_matrix"
   ],
   "metadata": {
    "collapsed": false,
    "ExecuteTime": {
     "end_time": "2023-12-17T14:45:47.425324473Z",
     "start_time": "2023-12-17T14:45:47.412689201Z"
    }
   },
   "id": "6e3a6874b391a7c3"
  },
  {
   "cell_type": "code",
   "execution_count": 75,
   "outputs": [
    {
     "data": {
      "text/plain": "tensor([[[999,   4,  29,  63],\n         [ 99,   0,  20,  18],\n         [ 48,   2,  85,  81]]], dtype=torch.int32)"
     },
     "execution_count": 75,
     "metadata": {},
     "output_type": "execute_result"
    }
   ],
   "source": [
    "matrix_2.unsqueeze(dim=0)"
   ],
   "metadata": {
    "collapsed": false,
    "ExecuteTime": {
     "end_time": "2023-12-17T14:45:47.467380053Z",
     "start_time": "2023-12-17T14:45:47.424099610Z"
    }
   },
   "id": "513b6a7ecd79095d"
  },
  {
   "cell_type": "code",
   "execution_count": 76,
   "outputs": [
    {
     "data": {
      "text/plain": "tensor([[[999,   4,  29,  63]],\n\n        [[ 99,   0,  20,  18]],\n\n        [[ 48,   2,  85,  81]]], dtype=torch.int32)"
     },
     "execution_count": 76,
     "metadata": {},
     "output_type": "execute_result"
    }
   ],
   "source": [
    "matrix_2.unsqueeze(dim=1)"
   ],
   "metadata": {
    "collapsed": false,
    "ExecuteTime": {
     "end_time": "2023-12-17T14:45:47.480029944Z",
     "start_time": "2023-12-17T14:45:47.459969373Z"
    }
   },
   "id": "1a8388172d5e7867"
  },
  {
   "cell_type": "code",
   "execution_count": 77,
   "outputs": [
    {
     "data": {
      "text/plain": "torch.Size([3, 1, 4])"
     },
     "execution_count": 77,
     "metadata": {},
     "output_type": "execute_result"
    }
   ],
   "source": [
    "matrix_2.unsqueeze(dim=1).shape"
   ],
   "metadata": {
    "collapsed": false,
    "ExecuteTime": {
     "end_time": "2023-12-17T14:45:47.490558316Z",
     "start_time": "2023-12-17T14:45:47.478506012Z"
    }
   },
   "id": "92725f37feeecc53"
  },
  {
   "cell_type": "markdown",
   "source": [
    "### The permute method just changes the order of the dimensions"
   ],
   "metadata": {
    "collapsed": false
   },
   "id": "8dd253a4e174dee6"
  },
  {
   "cell_type": "code",
   "execution_count": 78,
   "outputs": [],
   "source": [
    "image_tensor = torch.rand(size=(224, 224, 3))"
   ],
   "metadata": {
    "collapsed": false,
    "ExecuteTime": {
     "end_time": "2023-12-17T14:45:47.524852679Z",
     "start_time": "2023-12-17T14:45:47.489363652Z"
    }
   },
   "id": "83255903f8131e47"
  },
  {
   "cell_type": "code",
   "execution_count": 79,
   "outputs": [
    {
     "data": {
      "text/plain": "torch.Size([224, 224, 3])"
     },
     "execution_count": 79,
     "metadata": {},
     "output_type": "execute_result"
    }
   ],
   "source": [
    "image_tensor.shape"
   ],
   "metadata": {
    "collapsed": false,
    "ExecuteTime": {
     "end_time": "2023-12-17T14:45:47.538006147Z",
     "start_time": "2023-12-17T14:45:47.523597106Z"
    }
   },
   "id": "97751babb10040a7"
  },
  {
   "cell_type": "code",
   "execution_count": 80,
   "outputs": [
    {
     "data": {
      "text/plain": "torch.Size([3, 224, 224])"
     },
     "execution_count": 80,
     "metadata": {},
     "output_type": "execute_result"
    }
   ],
   "source": [
    "image_tensor.permute(2, 0, 1).shape"
   ],
   "metadata": {
    "collapsed": false,
    "ExecuteTime": {
     "end_time": "2023-12-17T14:45:47.552911315Z",
     "start_time": "2023-12-17T14:45:47.536711094Z"
    }
   },
   "id": "93be7a3cc36ecfbc"
  },
  {
   "cell_type": "markdown",
   "source": [
    "### permute returns a view, so remember that both of the tensors point to the same place in memory                                                                                                  "
   ],
   "metadata": {
    "collapsed": false
   },
   "id": "3794541438df76fd"
  },
  {
   "cell_type": "code",
   "execution_count": 81,
   "outputs": [],
   "source": [
    "matrix = torch.arange(1, 10).reshape(1, 3, 3)"
   ],
   "metadata": {
    "collapsed": false,
    "ExecuteTime": {
     "end_time": "2023-12-17T14:45:47.577700540Z",
     "start_time": "2023-12-17T14:45:47.547587665Z"
    }
   },
   "id": "84c44bf6fd60485a"
  },
  {
   "cell_type": "code",
   "execution_count": 82,
   "outputs": [
    {
     "data": {
      "text/plain": "(tensor([[[1, 2, 3],\n          [4, 5, 6],\n          [7, 8, 9]]]),\n torch.Size([1, 3, 3]))"
     },
     "execution_count": 82,
     "metadata": {},
     "output_type": "execute_result"
    }
   ],
   "source": [
    "matrix, matrix.shape"
   ],
   "metadata": {
    "collapsed": false,
    "ExecuteTime": {
     "end_time": "2023-12-17T14:45:47.598892603Z",
     "start_time": "2023-12-17T14:45:47.576433066Z"
    }
   },
   "id": "cb6ac3346c5c6578"
  },
  {
   "cell_type": "code",
   "execution_count": 83,
   "outputs": [
    {
     "data": {
      "text/plain": "tensor(1)"
     },
     "execution_count": 83,
     "metadata": {},
     "output_type": "execute_result"
    }
   ],
   "source": [
    "matrix[0, 0, 0]"
   ],
   "metadata": {
    "collapsed": false,
    "ExecuteTime": {
     "end_time": "2023-12-17T14:45:47.616389428Z",
     "start_time": "2023-12-17T14:45:47.591464015Z"
    }
   },
   "id": "e9b87cb2e9728159"
  },
  {
   "cell_type": "code",
   "execution_count": 84,
   "outputs": [
    {
     "data": {
      "text/plain": "tensor([2, 5, 8])"
     },
     "execution_count": 84,
     "metadata": {},
     "output_type": "execute_result"
    }
   ],
   "source": [
    "matrix[0, :, 1]"
   ],
   "metadata": {
    "collapsed": false,
    "ExecuteTime": {
     "end_time": "2023-12-17T14:45:47.650066554Z",
     "start_time": "2023-12-17T14:45:47.615196875Z"
    }
   },
   "id": "8f92fb210adc5825"
  },
  {
   "cell_type": "code",
   "execution_count": 85,
   "outputs": [
    {
     "data": {
      "text/plain": "tensor([[2],\n        [5],\n        [8]])"
     },
     "execution_count": 85,
     "metadata": {},
     "output_type": "execute_result"
    }
   ],
   "source": [
    "matrix[0, :, 1].unsqueeze(dim=1)"
   ],
   "metadata": {
    "collapsed": false,
    "ExecuteTime": {
     "end_time": "2023-12-17T14:45:47.666319366Z",
     "start_time": "2023-12-17T14:45:47.648886611Z"
    }
   },
   "id": "4f25583f146f4666"
  },
  {
   "cell_type": "markdown",
   "source": [
    "### Pytorch tensors with numpy"
   ],
   "metadata": {
    "collapsed": false
   },
   "id": "569a1dcecb558a72"
  },
  {
   "cell_type": "code",
   "execution_count": 86,
   "outputs": [],
   "source": [
    "import numpy"
   ],
   "metadata": {
    "collapsed": false,
    "ExecuteTime": {
     "end_time": "2023-12-17T15:03:43.272127070Z",
     "start_time": "2023-12-17T15:03:43.230641794Z"
    }
   },
   "id": "572701647151afe6"
  },
  {
   "cell_type": "code",
   "execution_count": 87,
   "outputs": [
    {
     "data": {
      "text/plain": "array([1, 2, 3, 4, 5, 6, 7, 8, 9])"
     },
     "execution_count": 87,
     "metadata": {},
     "output_type": "execute_result"
    }
   ],
   "source": [
    "array = numpy.arange(1, 10)\n",
    "array"
   ],
   "metadata": {
    "collapsed": false,
    "ExecuteTime": {
     "end_time": "2023-12-17T15:04:11.370679816Z",
     "start_time": "2023-12-17T15:04:11.324696232Z"
    }
   },
   "id": "78d84e6e7b6e1110"
  },
  {
   "cell_type": "code",
   "execution_count": 88,
   "outputs": [
    {
     "data": {
      "text/plain": "tensor([1, 2, 3, 4, 5, 6, 7, 8, 9])"
     },
     "execution_count": 88,
     "metadata": {},
     "output_type": "execute_result"
    }
   ],
   "source": [
    "tensor = torch.from_numpy(array)\n",
    "tensor"
   ],
   "metadata": {
    "collapsed": false,
    "ExecuteTime": {
     "end_time": "2023-12-17T15:04:33.901183716Z",
     "start_time": "2023-12-17T15:04:33.859863868Z"
    }
   },
   "id": "7e8ac862c21170ab"
  },
  {
   "cell_type": "code",
   "execution_count": 89,
   "outputs": [
    {
     "data": {
      "text/plain": "torch.int64"
     },
     "execution_count": 89,
     "metadata": {},
     "output_type": "execute_result"
    }
   ],
   "source": [
    "tensor.dtype"
   ],
   "metadata": {
    "collapsed": false,
    "ExecuteTime": {
     "end_time": "2023-12-17T15:04:55.586412125Z",
     "start_time": "2023-12-17T15:04:55.540205516Z"
    }
   },
   "id": "cfb339c0a3d3e3e4"
  },
  {
   "cell_type": "code",
   "execution_count": 90,
   "outputs": [
    {
     "data": {
      "text/plain": "dtype('int64')"
     },
     "execution_count": 90,
     "metadata": {},
     "output_type": "execute_result"
    }
   ],
   "source": [
    "array.dtype"
   ],
   "metadata": {
    "collapsed": false,
    "ExecuteTime": {
     "end_time": "2023-12-17T15:05:11.745184739Z",
     "start_time": "2023-12-17T15:05:11.717565152Z"
    }
   },
   "id": "daef50cc1e17cac0"
  },
  {
   "cell_type": "code",
   "execution_count": 91,
   "outputs": [
    {
     "data": {
      "text/plain": "array([0.        , 0.05263158, 0.10526316, 0.15789474, 0.21052632,\n       0.26315789, 0.31578947, 0.36842105, 0.42105263, 0.47368421,\n       0.52631579, 0.57894737, 0.63157895, 0.68421053, 0.73684211,\n       0.78947368, 0.84210526, 0.89473684, 0.94736842, 1.        ])"
     },
     "execution_count": 91,
     "metadata": {},
     "output_type": "execute_result"
    }
   ],
   "source": [
    "numpy.linspace(0, 1, 20)"
   ],
   "metadata": {
    "collapsed": false,
    "ExecuteTime": {
     "end_time": "2023-12-17T15:06:46.947845897Z",
     "start_time": "2023-12-17T15:06:46.883976838Z"
    }
   },
   "id": "e111220ad5adea23"
  },
  {
   "cell_type": "code",
   "execution_count": 92,
   "outputs": [
    {
     "data": {
      "text/plain": "tensor([0.0000, 0.0526, 0.1053, 0.1579, 0.2105, 0.2632, 0.3158, 0.3684, 0.4211,\n        0.4737, 0.5263, 0.5789, 0.6316, 0.6842, 0.7368, 0.7895, 0.8421, 0.8947,\n        0.9474, 1.0000])"
     },
     "execution_count": 92,
     "metadata": {},
     "output_type": "execute_result"
    }
   ],
   "source": [
    "torch.linspace(0, 1, 20)"
   ],
   "metadata": {
    "collapsed": false,
    "ExecuteTime": {
     "end_time": "2023-12-17T15:07:12.646968126Z",
     "start_time": "2023-12-17T15:07:12.615106587Z"
    }
   },
   "id": "5bc6b90b762b89b7"
  },
  {
   "cell_type": "code",
   "execution_count": 93,
   "outputs": [
    {
     "data": {
      "text/plain": "(array([1, 2, 3, 4, 5, 6, 7, 8, 9]), tensor([1, 2, 3, 4, 5, 6, 7, 8, 9]))"
     },
     "execution_count": 93,
     "metadata": {},
     "output_type": "execute_result"
    }
   ],
   "source": [
    "array, tensor"
   ],
   "metadata": {
    "collapsed": false,
    "ExecuteTime": {
     "end_time": "2023-12-17T15:09:30.014290294Z",
     "start_time": "2023-12-17T15:09:29.968026129Z"
    }
   },
   "id": "bb2f5dfe3a52b243"
  },
  {
   "cell_type": "code",
   "execution_count": 94,
   "outputs": [
    {
     "data": {
      "text/plain": "(array([ 2,  3,  4,  5,  6,  7,  8,  9, 10]),\n tensor([ 2,  3,  4,  5,  6,  7,  8,  9, 10]))"
     },
     "execution_count": 94,
     "metadata": {},
     "output_type": "execute_result"
    }
   ],
   "source": [
    "array += 1\n",
    "array, tensor"
   ],
   "metadata": {
    "collapsed": false,
    "ExecuteTime": {
     "end_time": "2023-12-17T15:09:40.398229112Z",
     "start_time": "2023-12-17T15:09:40.367621154Z"
    }
   },
   "id": "1e0451fb93ba2967"
  },
  {
   "cell_type": "code",
   "execution_count": 95,
   "outputs": [
    {
     "data": {
      "text/plain": "(array([ 3,  4,  5,  6,  7,  8,  9, 10, 11]),\n tensor([ 2,  3,  4,  5,  6,  7,  8,  9, 10]))"
     },
     "execution_count": 95,
     "metadata": {},
     "output_type": "execute_result"
    }
   ],
   "source": [
    "array = array + 1\n",
    "array, tensor"
   ],
   "metadata": {
    "collapsed": false,
    "ExecuteTime": {
     "end_time": "2023-12-17T15:10:13.084179785Z",
     "start_time": "2023-12-17T15:10:13.039581864Z"
    }
   },
   "id": "6a4c72b95e244044"
  },
  {
   "cell_type": "code",
   "execution_count": 97,
   "outputs": [
    {
     "data": {
      "text/plain": "dtype('int64')"
     },
     "execution_count": 97,
     "metadata": {},
     "output_type": "execute_result"
    }
   ],
   "source": [
    "tensor.numpy().dtype"
   ],
   "metadata": {
    "collapsed": false,
    "ExecuteTime": {
     "end_time": "2023-12-17T15:10:49.909373113Z",
     "start_time": "2023-12-17T15:10:49.895190469Z"
    }
   },
   "id": "59acd0d8a5142ff6"
  },
  {
   "cell_type": "code",
   "execution_count": 98,
   "outputs": [
    {
     "data": {
      "text/plain": "device(type='cpu')"
     },
     "execution_count": 98,
     "metadata": {},
     "output_type": "execute_result"
    }
   ],
   "source": [
    "tensor.device"
   ],
   "metadata": {
    "collapsed": false,
    "ExecuteTime": {
     "end_time": "2023-12-17T15:37:52.387838712Z",
     "start_time": "2023-12-17T15:37:52.354995159Z"
    }
   },
   "id": "f56d4a63fe97cb7e"
  },
  {
   "cell_type": "code",
   "execution_count": 99,
   "outputs": [
    {
     "data": {
      "text/plain": "tensor([ 2,  3,  4,  5,  6,  7,  8,  9, 10], device='cuda:0')"
     },
     "execution_count": 99,
     "metadata": {},
     "output_type": "execute_result"
    }
   ],
   "source": [
    "tensor.to('cuda')"
   ],
   "metadata": {
    "collapsed": false,
    "ExecuteTime": {
     "end_time": "2023-12-17T15:37:57.733337667Z",
     "start_time": "2023-12-17T15:37:57.703896305Z"
    }
   },
   "id": "88a14867cb57c4f7"
  },
  {
   "cell_type": "code",
   "execution_count": null,
   "outputs": [],
   "source": [],
   "metadata": {
    "collapsed": false
   },
   "id": "ae4ca3f9b6da60dd"
  }
 ],
 "metadata": {
  "kernelspec": {
   "display_name": "Python 3",
   "language": "python",
   "name": "python3"
  },
  "language_info": {
   "codemirror_mode": {
    "name": "ipython",
    "version": 2
   },
   "file_extension": ".py",
   "mimetype": "text/x-python",
   "name": "python",
   "nbconvert_exporter": "python",
   "pygments_lexer": "ipython2",
   "version": "2.7.6"
  }
 },
 "nbformat": 4,
 "nbformat_minor": 5
}
